{
 "cells": [
  {
   "cell_type": "markdown",
   "metadata": {
    "tags": []
   },
   "source": [
    "# **Credit Risk Modeling**\n",
    "\n",
    "**Name:** Bernardo Raimundo "
   ]
  },
  {
   "cell_type": "markdown",
   "metadata": {},
   "source": [
    "## **Table of Contents**\n",
    "\n",
    "* [1. Introduction](#1)\n",
    "* [2. Importing Libraries](#2)\n",
    "* [3. Data Preparation](#3)\n",
    "* [4. Dealing with potential Outliers](#4)\n",
    "* [5. Encoding Variables](#5)\n",
    "* [6. Machine Learning Pipeline](#6)\n",
    "* [7. Performance Metrics](#7)\n",
    "* [8. Undersample Approach](#8)\n",
    "* [9. Oversample Approach](#9)"
   ]
  },
  {
   "cell_type": "markdown",
   "metadata": {
    "tags": []
   },
   "source": [
    "## **Introduction**\n",
    "\n",
    "<a id=\"1\"></a>\n",
    "\n",
    "Credit risk scoring methods are widely used for evaluating potential loan applications in both financial and banking institutions. These procedures allow banks to describe the likelihood of a default over a particular time horizon. \n",
    "\n",
    "Financial institutions deploy models that consider the credit history of the borrowers and the inputs from their own economic stress scenarios to measure credit risk. Keen awareness is needed to identify, measure, monitor and control credit risk, guarantee sufficient capital against these risks and adequate compensation for the risks incurred.\n",
    "\n",
    "When an institution receives a loan application, a decision regarding the approval of the loan has to be made considering the applicant’s profile. There are two types of risks assoiciated with this decision:\n",
    "\n",
    "- If the applicant is likely to repay the loan, then not approving the loan results in a loss of business to an instituiton;\n",
    "\n",
    "- If the applicant is not likely to repay the loan, i.e. he/she is likely to default, then approving the loan may lead to a financial.\n",
    "\n",
    "The data for this specific scenario is provided by LendingClub, a P2P lending company that provides loans without the need of any financial intermdediation and/or collateral. Investors are responsible for their own decision on lending. Even though the company has fitter borrowers who meet the minimum requirements, there is still a huge risk of non-repayment. This is the problem that this project works on by making the prediction of loan status for these applicants.\n",
    "\n",
    "The data contains information about past loan applicants and whether they ‘defaulted’ or not. \n",
    "\n",
    "The aim is to identify patterns, which may serve as key information to either deny a loan to an applicant, reduce the amount of loan or even lending at higher interest rate."
   ]
  },
  {
   "cell_type": "markdown",
   "metadata": {},
   "source": [
    "### **Main tasks of this research:**\n",
    "\n",
    "- Make a preliminary statistical analysis of the credit dataset\n",
    "\n",
    "- Develop a several models to predict the probability of default evaluating them using different performance metrics\n",
    "\n",
    "- Utilize model combination (Stacking Generalization Approach) and compare it to the more traditional credit scoring methods"
   ]
  },
  {
   "cell_type": "markdown",
   "metadata": {},
   "source": [
    "**This notebook covers feature engeneering and modeling KNN**"
   ]
  },
  {
   "cell_type": "markdown",
   "metadata": {
    "tags": []
   },
   "source": [
    "## **Importing Libraries**\n",
    "\n",
    "<a id=\"2\"></a>\n",
    "\n",
    "---"
   ]
  },
  {
   "cell_type": "code",
   "execution_count": 1,
   "metadata": {},
   "outputs": [],
   "source": [
    "import pandas as pd\n",
    "import os\n",
    "import numpy as np\n",
    "import seaborn as sns\n",
    "import matplotlib.pyplot as plt\n",
    "import collections\n",
    "import category_encoders as ce\n",
    "from sklearn.preprocessing import StandardScaler, OneHotEncoder, OrdinalEncoder\n",
    "from sklearn.model_selection import train_test_split, StratifiedKFold, GridSearchCV, learning_curve, cross_validate\n",
    "from sklearn.neighbors import KNeighborsClassifier\n",
    "from sklearn.compose import ColumnTransformer\n",
    "from sklearn import metrics\n",
    "from sklearn.impute import SimpleImputer\n",
    "from sklearn import set_config\n",
    "from sklearn.decomposition import PCA\n",
    "from imblearn.under_sampling import RandomUnderSampler \n",
    "from imblearn.over_sampling import RandomOverSampler\n",
    "from sklearn.metrics import accuracy_score, f1_score, recall_score, precision_score, roc_curve, roc_auc_score, confusion_matrix\n",
    "from sklearn.pipeline import  Pipeline\n",
    "from imblearn.pipeline import Pipeline as imb_pipeline\n",
    "import warnings"
   ]
  },
  {
   "cell_type": "markdown",
   "metadata": {},
   "source": [
    "**Additional configuration features for easier vizualization**"
   ]
  },
  {
   "cell_type": "code",
   "execution_count": 2,
   "metadata": {},
   "outputs": [],
   "source": [
    "pd.set_option('display.max_columns', None)\n",
    "pd.set_option('display.max_rows', None)\n",
    "pd.set_option('display.max_colwidth', 0)\n",
    "pd.options.mode.chained_assignment = None \n",
    "warnings.simplefilter(action=\"ignore\", category=FutureWarning)"
   ]
  },
  {
   "cell_type": "markdown",
   "metadata": {},
   "source": [
    "**Checking Working Directory**"
   ]
  },
  {
   "cell_type": "code",
   "execution_count": 3,
   "metadata": {},
   "outputs": [
    {
     "data": {
      "text/plain": [
       "'C:\\\\Users\\\\raimu\\\\OneDrive - NOVAIMS\\\\Tese\\\\4. Tese\\\\Data\\\\Python File\\\\Dissertation Code'"
      ]
     },
     "execution_count": 3,
     "metadata": {},
     "output_type": "execute_result"
    }
   ],
   "source": [
    "os.getcwd() ### Check Working Directory"
   ]
  },
  {
   "cell_type": "markdown",
   "metadata": {},
   "source": [
    "**Importing Data**"
   ]
  },
  {
   "cell_type": "code",
   "execution_count": 4,
   "metadata": {},
   "outputs": [],
   "source": [
    "df_train = pd.read_csv('1. dataset_for_feature_engeneering.csv')"
   ]
  },
  {
   "cell_type": "code",
   "execution_count": 5,
   "metadata": {},
   "outputs": [],
   "source": [
    "df_train.drop(['Unnamed: 0'],1, inplace=True)"
   ]
  },
  {
   "cell_type": "code",
   "execution_count": 6,
   "metadata": {},
   "outputs": [
    {
     "data": {
      "text/html": [
       "<div>\n",
       "<style scoped>\n",
       "    .dataframe tbody tr th:only-of-type {\n",
       "        vertical-align: middle;\n",
       "    }\n",
       "\n",
       "    .dataframe tbody tr th {\n",
       "        vertical-align: top;\n",
       "    }\n",
       "\n",
       "    .dataframe thead th {\n",
       "        text-align: right;\n",
       "    }\n",
       "</style>\n",
       "<table border=\"1\" class=\"dataframe\">\n",
       "  <thead>\n",
       "    <tr style=\"text-align: right;\">\n",
       "      <th></th>\n",
       "      <th>loan_amnt</th>\n",
       "      <th>term</th>\n",
       "      <th>int_rate</th>\n",
       "      <th>grade</th>\n",
       "      <th>home_ownership</th>\n",
       "      <th>annual_inc</th>\n",
       "      <th>verification_status</th>\n",
       "      <th>loan_status</th>\n",
       "      <th>purpose</th>\n",
       "      <th>addr_state</th>\n",
       "      <th>dti</th>\n",
       "      <th>delinq_2yrs</th>\n",
       "      <th>inq_last_6mths</th>\n",
       "      <th>open_acc</th>\n",
       "      <th>pub_rec</th>\n",
       "      <th>revol_bal</th>\n",
       "      <th>revol_util</th>\n",
       "      <th>total_acc</th>\n",
       "      <th>last_pymnt_amnt</th>\n",
       "      <th>application_type</th>\n",
       "      <th>mort_acc</th>\n",
       "      <th>pub_rec_bankruptcies</th>\n",
       "      <th>fico_score</th>\n",
       "    </tr>\n",
       "  </thead>\n",
       "  <tbody>\n",
       "    <tr>\n",
       "      <th>0</th>\n",
       "      <td>3600.0</td>\n",
       "      <td>36</td>\n",
       "      <td>13.99</td>\n",
       "      <td>C</td>\n",
       "      <td>MORTGAGE</td>\n",
       "      <td>55000.0</td>\n",
       "      <td>Not Verified</td>\n",
       "      <td>Fully Paid</td>\n",
       "      <td>debt_consolidation</td>\n",
       "      <td>PA</td>\n",
       "      <td>5.91</td>\n",
       "      <td>0.0</td>\n",
       "      <td>1.0</td>\n",
       "      <td>7.0</td>\n",
       "      <td>0.0</td>\n",
       "      <td>2765.0</td>\n",
       "      <td>29.7</td>\n",
       "      <td>13.0</td>\n",
       "      <td>122.67</td>\n",
       "      <td>Individual</td>\n",
       "      <td>1.0</td>\n",
       "      <td>0.0</td>\n",
       "      <td>562.0</td>\n",
       "    </tr>\n",
       "    <tr>\n",
       "      <th>1</th>\n",
       "      <td>24700.0</td>\n",
       "      <td>36</td>\n",
       "      <td>11.99</td>\n",
       "      <td>C</td>\n",
       "      <td>MORTGAGE</td>\n",
       "      <td>65000.0</td>\n",
       "      <td>Not Verified</td>\n",
       "      <td>Fully Paid</td>\n",
       "      <td>small_business</td>\n",
       "      <td>SD</td>\n",
       "      <td>16.06</td>\n",
       "      <td>1.0</td>\n",
       "      <td>4.0</td>\n",
       "      <td>22.0</td>\n",
       "      <td>0.0</td>\n",
       "      <td>21470.0</td>\n",
       "      <td>19.2</td>\n",
       "      <td>38.0</td>\n",
       "      <td>926.35</td>\n",
       "      <td>Individual</td>\n",
       "      <td>4.0</td>\n",
       "      <td>0.0</td>\n",
       "      <td>697.0</td>\n",
       "    </tr>\n",
       "    <tr>\n",
       "      <th>2</th>\n",
       "      <td>20000.0</td>\n",
       "      <td>60</td>\n",
       "      <td>10.78</td>\n",
       "      <td>B</td>\n",
       "      <td>MORTGAGE</td>\n",
       "      <td>63000.0</td>\n",
       "      <td>Not Verified</td>\n",
       "      <td>Fully Paid</td>\n",
       "      <td>home_improvement</td>\n",
       "      <td>IL</td>\n",
       "      <td>10.78</td>\n",
       "      <td>0.0</td>\n",
       "      <td>0.0</td>\n",
       "      <td>6.0</td>\n",
       "      <td>0.0</td>\n",
       "      <td>7869.0</td>\n",
       "      <td>56.2</td>\n",
       "      <td>18.0</td>\n",
       "      <td>15813.30</td>\n",
       "      <td>Joint App</td>\n",
       "      <td>5.0</td>\n",
       "      <td>0.0</td>\n",
       "      <td>702.0</td>\n",
       "    </tr>\n",
       "    <tr>\n",
       "      <th>3</th>\n",
       "      <td>10400.0</td>\n",
       "      <td>60</td>\n",
       "      <td>22.45</td>\n",
       "      <td>F</td>\n",
       "      <td>MORTGAGE</td>\n",
       "      <td>104433.0</td>\n",
       "      <td>Source Verified</td>\n",
       "      <td>Fully Paid</td>\n",
       "      <td>major_purchase</td>\n",
       "      <td>PA</td>\n",
       "      <td>25.37</td>\n",
       "      <td>1.0</td>\n",
       "      <td>3.0</td>\n",
       "      <td>12.0</td>\n",
       "      <td>0.0</td>\n",
       "      <td>21929.0</td>\n",
       "      <td>64.5</td>\n",
       "      <td>35.0</td>\n",
       "      <td>10128.96</td>\n",
       "      <td>Individual</td>\n",
       "      <td>6.0</td>\n",
       "      <td>0.0</td>\n",
       "      <td>702.0</td>\n",
       "    </tr>\n",
       "    <tr>\n",
       "      <th>4</th>\n",
       "      <td>11950.0</td>\n",
       "      <td>36</td>\n",
       "      <td>13.44</td>\n",
       "      <td>C</td>\n",
       "      <td>RENT</td>\n",
       "      <td>34000.0</td>\n",
       "      <td>Source Verified</td>\n",
       "      <td>Fully Paid</td>\n",
       "      <td>debt_consolidation</td>\n",
       "      <td>GA</td>\n",
       "      <td>10.20</td>\n",
       "      <td>0.0</td>\n",
       "      <td>0.0</td>\n",
       "      <td>5.0</td>\n",
       "      <td>0.0</td>\n",
       "      <td>8822.0</td>\n",
       "      <td>68.4</td>\n",
       "      <td>6.0</td>\n",
       "      <td>7653.56</td>\n",
       "      <td>Individual</td>\n",
       "      <td>0.0</td>\n",
       "      <td>0.0</td>\n",
       "      <td>757.0</td>\n",
       "    </tr>\n",
       "  </tbody>\n",
       "</table>\n",
       "</div>"
      ],
      "text/plain": [
       "   loan_amnt  term  int_rate grade home_ownership  annual_inc  \\\n",
       "0  3600.0     36    13.99     C     MORTGAGE       55000.0      \n",
       "1  24700.0    36    11.99     C     MORTGAGE       65000.0      \n",
       "2  20000.0    60    10.78     B     MORTGAGE       63000.0      \n",
       "3  10400.0    60    22.45     F     MORTGAGE       104433.0     \n",
       "4  11950.0    36    13.44     C     RENT           34000.0      \n",
       "\n",
       "  verification_status loan_status             purpose addr_state    dti  \\\n",
       "0  Not Verified        Fully Paid  debt_consolidation  PA         5.91    \n",
       "1  Not Verified        Fully Paid  small_business      SD         16.06   \n",
       "2  Not Verified        Fully Paid  home_improvement    IL         10.78   \n",
       "3  Source Verified     Fully Paid  major_purchase      PA         25.37   \n",
       "4  Source Verified     Fully Paid  debt_consolidation  GA         10.20   \n",
       "\n",
       "   delinq_2yrs  inq_last_6mths  open_acc  pub_rec  revol_bal  revol_util  \\\n",
       "0  0.0          1.0             7.0       0.0      2765.0     29.7         \n",
       "1  1.0          4.0             22.0      0.0      21470.0    19.2         \n",
       "2  0.0          0.0             6.0       0.0      7869.0     56.2         \n",
       "3  1.0          3.0             12.0      0.0      21929.0    64.5         \n",
       "4  0.0          0.0             5.0       0.0      8822.0     68.4         \n",
       "\n",
       "   total_acc  last_pymnt_amnt application_type  mort_acc  \\\n",
       "0  13.0       122.67           Individual       1.0        \n",
       "1  38.0       926.35           Individual       4.0        \n",
       "2  18.0       15813.30         Joint App        5.0        \n",
       "3  35.0       10128.96         Individual       6.0        \n",
       "4  6.0        7653.56          Individual       0.0        \n",
       "\n",
       "   pub_rec_bankruptcies  fico_score  \n",
       "0  0.0                   562.0       \n",
       "1  0.0                   697.0       \n",
       "2  0.0                   702.0       \n",
       "3  0.0                   702.0       \n",
       "4  0.0                   757.0       "
      ]
     },
     "execution_count": 6,
     "metadata": {},
     "output_type": "execute_result"
    }
   ],
   "source": [
    "df_train.head()"
   ]
  },
  {
   "cell_type": "code",
   "execution_count": 7,
   "metadata": {},
   "outputs": [
    {
     "name": "stdout",
     "output_type": "stream",
     "text": [
      "<class 'pandas.core.frame.DataFrame'>\n",
      "RangeIndex: 1345310 entries, 0 to 1345309\n",
      "Data columns (total 23 columns):\n",
      " #   Column                Non-Null Count    Dtype  \n",
      "---  ------                --------------    -----  \n",
      " 0   loan_amnt             1345310 non-null  float64\n",
      " 1   term                  1345310 non-null  int64  \n",
      " 2   int_rate              1345310 non-null  float64\n",
      " 3   grade                 1345310 non-null  object \n",
      " 4   home_ownership        1345310 non-null  object \n",
      " 5   annual_inc            1345310 non-null  float64\n",
      " 6   verification_status   1345310 non-null  object \n",
      " 7   loan_status           1345310 non-null  object \n",
      " 8   purpose               1345310 non-null  object \n",
      " 9   addr_state            1345310 non-null  object \n",
      " 10  dti                   1344936 non-null  float64\n",
      " 11  delinq_2yrs           1345310 non-null  float64\n",
      " 12  inq_last_6mths        1345309 non-null  float64\n",
      " 13  open_acc              1345310 non-null  float64\n",
      " 14  pub_rec               1345310 non-null  float64\n",
      " 15  revol_bal             1345310 non-null  float64\n",
      " 16  revol_util            1344453 non-null  float64\n",
      " 17  total_acc             1345310 non-null  float64\n",
      " 18  last_pymnt_amnt       1345310 non-null  float64\n",
      " 19  application_type      1345310 non-null  object \n",
      " 20  mort_acc              1298029 non-null  float64\n",
      " 21  pub_rec_bankruptcies  1344613 non-null  float64\n",
      " 22  fico_score            1345310 non-null  float64\n",
      "dtypes: float64(15), int64(1), object(7)\n",
      "memory usage: 236.1+ MB\n"
     ]
    }
   ],
   "source": [
    "df_train.info()"
   ]
  },
  {
   "cell_type": "code",
   "execution_count": 8,
   "metadata": {},
   "outputs": [
    {
     "data": {
      "text/plain": [
       "(1345310, 23)"
      ]
     },
     "execution_count": 8,
     "metadata": {},
     "output_type": "execute_result"
    }
   ],
   "source": [
    "df_train.shape"
   ]
  },
  {
   "cell_type": "markdown",
   "metadata": {},
   "source": [
    "### **Data Preparation**\n",
    "\n",
    "<a id=\"3\"></a>\n",
    "\n",
    "---"
   ]
  },
  {
   "cell_type": "markdown",
   "metadata": {},
   "source": [
    "Now that we chose the potential variables for the modelling phase some more data preparation is required."
   ]
  },
  {
   "cell_type": "markdown",
   "metadata": {},
   "source": [
    "First check which variables have missing data:"
   ]
  },
  {
   "cell_type": "code",
   "execution_count": 9,
   "metadata": {},
   "outputs": [
    {
     "data": {
      "text/html": [
       "<div>\n",
       "<style scoped>\n",
       "    .dataframe tbody tr th:only-of-type {\n",
       "        vertical-align: middle;\n",
       "    }\n",
       "\n",
       "    .dataframe tbody tr th {\n",
       "        vertical-align: top;\n",
       "    }\n",
       "\n",
       "    .dataframe thead th {\n",
       "        text-align: right;\n",
       "    }\n",
       "</style>\n",
       "<table border=\"1\" class=\"dataframe\">\n",
       "  <thead>\n",
       "    <tr style=\"text-align: right;\">\n",
       "      <th></th>\n",
       "      <th>loan_amnt</th>\n",
       "      <th>term</th>\n",
       "      <th>int_rate</th>\n",
       "      <th>grade</th>\n",
       "      <th>home_ownership</th>\n",
       "      <th>annual_inc</th>\n",
       "      <th>verification_status</th>\n",
       "      <th>loan_status</th>\n",
       "      <th>purpose</th>\n",
       "      <th>addr_state</th>\n",
       "      <th>dti</th>\n",
       "      <th>delinq_2yrs</th>\n",
       "      <th>inq_last_6mths</th>\n",
       "      <th>open_acc</th>\n",
       "      <th>pub_rec</th>\n",
       "      <th>revol_bal</th>\n",
       "      <th>revol_util</th>\n",
       "      <th>total_acc</th>\n",
       "      <th>last_pymnt_amnt</th>\n",
       "      <th>application_type</th>\n",
       "      <th>mort_acc</th>\n",
       "      <th>pub_rec_bankruptcies</th>\n",
       "      <th>fico_score</th>\n",
       "    </tr>\n",
       "  </thead>\n",
       "  <tbody>\n",
       "    <tr>\n",
       "      <th>Total</th>\n",
       "      <td>0</td>\n",
       "      <td>0</td>\n",
       "      <td>0</td>\n",
       "      <td>0</td>\n",
       "      <td>0</td>\n",
       "      <td>0</td>\n",
       "      <td>0</td>\n",
       "      <td>0</td>\n",
       "      <td>0</td>\n",
       "      <td>0</td>\n",
       "      <td>374</td>\n",
       "      <td>0</td>\n",
       "      <td>1</td>\n",
       "      <td>0</td>\n",
       "      <td>0</td>\n",
       "      <td>0</td>\n",
       "      <td>857</td>\n",
       "      <td>0</td>\n",
       "      <td>0</td>\n",
       "      <td>0</td>\n",
       "      <td>47281</td>\n",
       "      <td>697</td>\n",
       "      <td>0</td>\n",
       "    </tr>\n",
       "    <tr>\n",
       "      <th>Percent</th>\n",
       "      <td>0.0</td>\n",
       "      <td>0.0</td>\n",
       "      <td>0.0</td>\n",
       "      <td>0.0</td>\n",
       "      <td>0.0</td>\n",
       "      <td>0.0</td>\n",
       "      <td>0.0</td>\n",
       "      <td>0.0</td>\n",
       "      <td>0.0</td>\n",
       "      <td>0.0</td>\n",
       "      <td>0.0278</td>\n",
       "      <td>0.0</td>\n",
       "      <td>0.000074</td>\n",
       "      <td>0.0</td>\n",
       "      <td>0.0</td>\n",
       "      <td>0.0</td>\n",
       "      <td>0.063703</td>\n",
       "      <td>0.0</td>\n",
       "      <td>0.0</td>\n",
       "      <td>0.0</td>\n",
       "      <td>3.514506</td>\n",
       "      <td>0.05181</td>\n",
       "      <td>0.0</td>\n",
       "    </tr>\n",
       "    <tr>\n",
       "      <th>Types</th>\n",
       "      <td>float64</td>\n",
       "      <td>int64</td>\n",
       "      <td>float64</td>\n",
       "      <td>object</td>\n",
       "      <td>object</td>\n",
       "      <td>float64</td>\n",
       "      <td>object</td>\n",
       "      <td>object</td>\n",
       "      <td>object</td>\n",
       "      <td>object</td>\n",
       "      <td>float64</td>\n",
       "      <td>float64</td>\n",
       "      <td>float64</td>\n",
       "      <td>float64</td>\n",
       "      <td>float64</td>\n",
       "      <td>float64</td>\n",
       "      <td>float64</td>\n",
       "      <td>float64</td>\n",
       "      <td>float64</td>\n",
       "      <td>object</td>\n",
       "      <td>float64</td>\n",
       "      <td>float64</td>\n",
       "      <td>float64</td>\n",
       "    </tr>\n",
       "  </tbody>\n",
       "</table>\n",
       "</div>"
      ],
      "text/plain": [
       "        loan_amnt   term int_rate   grade home_ownership annual_inc  \\\n",
       "Total    0         0      0        0       0              0           \n",
       "Percent  0.0       0.0    0.0      0.0     0.0            0.0         \n",
       "Types    float64   int64  float64  object  object         float64     \n",
       "\n",
       "        verification_status loan_status purpose addr_state      dti  \\\n",
       "Total    0                   0           0       0          374       \n",
       "Percent  0.0                 0.0         0.0     0.0        0.0278    \n",
       "Types    object              object      object  object     float64   \n",
       "\n",
       "        delinq_2yrs inq_last_6mths open_acc  pub_rec revol_bal revol_util  \\\n",
       "Total    0           1              0        0        0         857         \n",
       "Percent  0.0         0.000074       0.0      0.0      0.0       0.063703    \n",
       "Types    float64     float64        float64  float64  float64   float64     \n",
       "\n",
       "        total_acc last_pymnt_amnt application_type  mort_acc  \\\n",
       "Total    0         0               0                47281      \n",
       "Percent  0.0       0.0             0.0              3.514506   \n",
       "Types    float64   float64         object           float64    \n",
       "\n",
       "        pub_rec_bankruptcies fico_score  \n",
       "Total    697                  0          \n",
       "Percent  0.05181              0.0        \n",
       "Types    float64              float64    "
      ]
     },
     "execution_count": 9,
     "metadata": {},
     "output_type": "execute_result"
    }
   ],
   "source": [
    "def missing_data(df_train):\n",
    "    total = df_train.isnull().sum()\n",
    "    percent = (df_train.isnull().sum()/df_train.isnull().count()*100)\n",
    "    tt = pd.concat([total, percent], axis=1, keys=['Total', 'Percent'])\n",
    "    types = []\n",
    "    for col in df_train.columns:\n",
    "        dtype = str(df_train[col].dtype)\n",
    "        types.append(dtype)\n",
    "    tt['Types'] = types\n",
    "    return(np.transpose(tt))\n",
    "\n",
    "missing_data(df_train)"
   ]
  },
  {
   "cell_type": "markdown",
   "metadata": {},
   "source": [
    "**We still have some missing values but these represent less than 10% of the total data. These values will be median imputed.** \n",
    "\n",
    "**This step will be executed when we build the machine learning pipeline later on.**"
   ]
  },
  {
   "cell_type": "markdown",
   "metadata": {
    "tags": []
   },
   "source": [
    "### **Dealing with potential Outliers**\n",
    "\n",
    "---"
   ]
  },
  {
   "cell_type": "markdown",
   "metadata": {},
   "source": [
    "Outliers are values that fall of outside of the overall patern of a data set.\n",
    "\n",
    "To deal with these outliers we decided to use the interquantile rule by:\n",
    "\n",
    "- Calculate the Interquantile range (IQR) for the data\n",
    "\n",
    "- Multiply the interquartile range (IQR) by 1.5 (a constant used to discern outliers).\n",
    "\n",
    "- Add 1.5 x (IQR) to the third quartile. Any number greater than this is a suspected outlier.\n",
    " \n",
    "- Subtract 1.5 x (IQR) from the first quartile. Any number less than this is a suspected outlier.\n",
    "\n",
    "Outlier Removal Tradeoff:\n",
    "\n",
    "We have to be careful as to how far do we want the threshold for removing outliers. We determine the threshold by multiplying a number (ex: 1.5) by the (Interquartile Range). The higher this threshold is, the less outliers will detect (multiplying by a higher number ex: 3), and the lower this threshold is the more outliers it will detect.\n",
    "\n",
    "The Tradeoff: The lower the threshold the more outliers it will remove however, we want to focus more on \"extreme outliers\" rather than just outliers. Why? because we might run the risk of information loss which will cause our models to have a lower accuracy. "
   ]
  },
  {
   "cell_type": "markdown",
   "metadata": {},
   "source": [
    "By looking at the descriptive statistics we see some interesting information. Some of these varaibles need an additional treatment as we may be dealing with some outliers"
   ]
  },
  {
   "cell_type": "code",
   "execution_count": 10,
   "metadata": {},
   "outputs": [
    {
     "data": {
      "image/png": "[encoded data removed]",
      "text/plain": [
       "<Figure size 2880x2160 with 16 Axes>"
      ]
     },
     "metadata": {
      "needs_background": "light"
     },
     "output_type": "display_data"
    }
   ],
   "source": [
    "numerical = df_train.select_dtypes(include=[np.number]).columns.tolist()\n",
    "\n",
    "fig, ax = plt.subplots(4, 4, figsize=(40, 30))\n",
    "\n",
    "for var, subplot in zip(df_train[numerical], ax.flatten()):\n",
    "    \n",
    "    sns.boxplot(df_train[var], ax=subplot)"
   ]
  },
  {
   "cell_type": "markdown",
   "metadata": {},
   "source": [
    "Outliers are unusual values in a datset, and they can distort statistical analyses and violate their assumptions. \n",
    "\n",
    "Analysts / Data Scientits need to confront outliers and be forced to make decisions about what to do with them. Given the problems they can cause, you might think that it’s best to remove them from your data. But, that’s not always the case. We should only remove an outlier if we are able to justify its exclusion. \n",
    "\n",
    "As mentioned in the first notebook both annual income and dti are variables that present rather extreme outliers. The removal of these outliers goes as follows:\n",
    "\n",
    "- Annual income: Values above 1000000 were dropped\n",
    "- Dti: Values above 60 were dropped\n",
    "- Revol_Bal: Values above 1000000 were dropped\n",
    "- Fico_score: Values bellow 249.5 were dropped"
   ]
  },
  {
   "cell_type": "code",
   "execution_count": 11,
   "metadata": {},
   "outputs": [],
   "source": [
    "df_train1 = df_train[df_train['annual_inc'] > 1000000]"
   ]
  },
  {
   "cell_type": "code",
   "execution_count": 12,
   "metadata": {},
   "outputs": [
    {
     "data": {
      "text/plain": [
       "(290, 23)"
      ]
     },
     "execution_count": 12,
     "metadata": {},
     "output_type": "execute_result"
    }
   ],
   "source": [
    "df_train1.shape"
   ]
  },
  {
   "cell_type": "code",
   "execution_count": 13,
   "metadata": {},
   "outputs": [
    {
     "data": {
      "text/html": [
       "<div>\n",
       "<style scoped>\n",
       "    .dataframe tbody tr th:only-of-type {\n",
       "        vertical-align: middle;\n",
       "    }\n",
       "\n",
       "    .dataframe tbody tr th {\n",
       "        vertical-align: top;\n",
       "    }\n",
       "\n",
       "    .dataframe thead th {\n",
       "        text-align: right;\n",
       "    }\n",
       "</style>\n",
       "<table border=\"1\" class=\"dataframe\">\n",
       "  <thead>\n",
       "    <tr style=\"text-align: right;\">\n",
       "      <th></th>\n",
       "      <th>loan_amnt</th>\n",
       "      <th>term</th>\n",
       "      <th>int_rate</th>\n",
       "      <th>grade</th>\n",
       "      <th>home_ownership</th>\n",
       "      <th>annual_inc</th>\n",
       "      <th>verification_status</th>\n",
       "      <th>loan_status</th>\n",
       "      <th>purpose</th>\n",
       "      <th>addr_state</th>\n",
       "      <th>dti</th>\n",
       "      <th>delinq_2yrs</th>\n",
       "      <th>inq_last_6mths</th>\n",
       "      <th>open_acc</th>\n",
       "      <th>pub_rec</th>\n",
       "      <th>revol_bal</th>\n",
       "      <th>revol_util</th>\n",
       "      <th>total_acc</th>\n",
       "      <th>last_pymnt_amnt</th>\n",
       "      <th>application_type</th>\n",
       "      <th>mort_acc</th>\n",
       "      <th>pub_rec_bankruptcies</th>\n",
       "      <th>fico_score</th>\n",
       "    </tr>\n",
       "  </thead>\n",
       "  <tbody>\n",
       "    <tr>\n",
       "      <th>6219</th>\n",
       "      <td>16000.0</td>\n",
       "      <td>36</td>\n",
       "      <td>5.32</td>\n",
       "      <td>A</td>\n",
       "      <td>RENT</td>\n",
       "      <td>1400000.0</td>\n",
       "      <td>Source Verified</td>\n",
       "      <td>Fully Paid</td>\n",
       "      <td>debt_consolidation</td>\n",
       "      <td>IL</td>\n",
       "      <td>0.07</td>\n",
       "      <td>0.0</td>\n",
       "      <td>0.0</td>\n",
       "      <td>10.0</td>\n",
       "      <td>0.0</td>\n",
       "      <td>3141.0</td>\n",
       "      <td>6.5</td>\n",
       "      <td>22.0</td>\n",
       "      <td>5027.63</td>\n",
       "      <td>Individual</td>\n",
       "      <td>2.0</td>\n",
       "      <td>0.0</td>\n",
       "      <td>802.0</td>\n",
       "    </tr>\n",
       "    <tr>\n",
       "      <th>6460</th>\n",
       "      <td>1225.0</td>\n",
       "      <td>36</td>\n",
       "      <td>11.99</td>\n",
       "      <td>C</td>\n",
       "      <td>RENT</td>\n",
       "      <td>3964280.0</td>\n",
       "      <td>Source Verified</td>\n",
       "      <td>Fully Paid</td>\n",
       "      <td>other</td>\n",
       "      <td>NY</td>\n",
       "      <td>0.05</td>\n",
       "      <td>0.0</td>\n",
       "      <td>0.0</td>\n",
       "      <td>5.0</td>\n",
       "      <td>0.0</td>\n",
       "      <td>1208.0</td>\n",
       "      <td>6.7</td>\n",
       "      <td>8.0</td>\n",
       "      <td>1131.00</td>\n",
       "      <td>Individual</td>\n",
       "      <td>0.0</td>\n",
       "      <td>0.0</td>\n",
       "      <td>687.0</td>\n",
       "    </tr>\n",
       "    <tr>\n",
       "      <th>9270</th>\n",
       "      <td>35000.0</td>\n",
       "      <td>36</td>\n",
       "      <td>11.22</td>\n",
       "      <td>B</td>\n",
       "      <td>MORTGAGE</td>\n",
       "      <td>2300000.0</td>\n",
       "      <td>Verified</td>\n",
       "      <td>Fully Paid</td>\n",
       "      <td>home_improvement</td>\n",
       "      <td>IL</td>\n",
       "      <td>2.39</td>\n",
       "      <td>0.0</td>\n",
       "      <td>0.0</td>\n",
       "      <td>8.0</td>\n",
       "      <td>0.0</td>\n",
       "      <td>41510.0</td>\n",
       "      <td>97.4</td>\n",
       "      <td>39.0</td>\n",
       "      <td>34725.96</td>\n",
       "      <td>Individual</td>\n",
       "      <td>4.0</td>\n",
       "      <td>0.0</td>\n",
       "      <td>712.0</td>\n",
       "    </tr>\n",
       "    <tr>\n",
       "      <th>16977</th>\n",
       "      <td>8000.0</td>\n",
       "      <td>36</td>\n",
       "      <td>7.89</td>\n",
       "      <td>A</td>\n",
       "      <td>MORTGAGE</td>\n",
       "      <td>1248000.0</td>\n",
       "      <td>Source Verified</td>\n",
       "      <td>Fully Paid</td>\n",
       "      <td>home_improvement</td>\n",
       "      <td>CA</td>\n",
       "      <td>1.30</td>\n",
       "      <td>1.0</td>\n",
       "      <td>1.0</td>\n",
       "      <td>17.0</td>\n",
       "      <td>1.0</td>\n",
       "      <td>6305.0</td>\n",
       "      <td>29.3</td>\n",
       "      <td>32.0</td>\n",
       "      <td>6247.85</td>\n",
       "      <td>Individual</td>\n",
       "      <td>3.0</td>\n",
       "      <td>0.0</td>\n",
       "      <td>597.0</td>\n",
       "    </tr>\n",
       "    <tr>\n",
       "      <th>19486</th>\n",
       "      <td>35000.0</td>\n",
       "      <td>36</td>\n",
       "      <td>13.67</td>\n",
       "      <td>C</td>\n",
       "      <td>MORTGAGE</td>\n",
       "      <td>2500000.0</td>\n",
       "      <td>Source Verified</td>\n",
       "      <td>Fully Paid</td>\n",
       "      <td>debt_consolidation</td>\n",
       "      <td>AZ</td>\n",
       "      <td>1.31</td>\n",
       "      <td>0.0</td>\n",
       "      <td>1.0</td>\n",
       "      <td>12.0</td>\n",
       "      <td>0.0</td>\n",
       "      <td>208165.0</td>\n",
       "      <td>44.6</td>\n",
       "      <td>32.0</td>\n",
       "      <td>1190.40</td>\n",
       "      <td>Individual</td>\n",
       "      <td>4.0</td>\n",
       "      <td>0.0</td>\n",
       "      <td>747.0</td>\n",
       "    </tr>\n",
       "  </tbody>\n",
       "</table>\n",
       "</div>"
      ],
      "text/plain": [
       "       loan_amnt  term  int_rate grade home_ownership  annual_inc  \\\n",
       "6219   16000.0    36    5.32      A     RENT           1400000.0    \n",
       "6460   1225.0     36    11.99     C     RENT           3964280.0    \n",
       "9270   35000.0    36    11.22     B     MORTGAGE       2300000.0    \n",
       "16977  8000.0     36    7.89      A     MORTGAGE       1248000.0    \n",
       "19486  35000.0    36    13.67     C     MORTGAGE       2500000.0    \n",
       "\n",
       "      verification_status loan_status             purpose addr_state   dti  \\\n",
       "6219   Source Verified     Fully Paid  debt_consolidation  IL         0.07   \n",
       "6460   Source Verified     Fully Paid  other               NY         0.05   \n",
       "9270   Verified            Fully Paid  home_improvement    IL         2.39   \n",
       "16977  Source Verified     Fully Paid  home_improvement    CA         1.30   \n",
       "19486  Source Verified     Fully Paid  debt_consolidation  AZ         1.31   \n",
       "\n",
       "       delinq_2yrs  inq_last_6mths  open_acc  pub_rec  revol_bal  revol_util  \\\n",
       "6219   0.0          0.0             10.0      0.0      3141.0     6.5          \n",
       "6460   0.0          0.0             5.0       0.0      1208.0     6.7          \n",
       "9270   0.0          0.0             8.0       0.0      41510.0    97.4         \n",
       "16977  1.0          1.0             17.0      1.0      6305.0     29.3         \n",
       "19486  0.0          1.0             12.0      0.0      208165.0   44.6         \n",
       "\n",
       "       total_acc  last_pymnt_amnt application_type  mort_acc  \\\n",
       "6219   22.0       5027.63          Individual       2.0        \n",
       "6460   8.0        1131.00          Individual       0.0        \n",
       "9270   39.0       34725.96         Individual       4.0        \n",
       "16977  32.0       6247.85          Individual       3.0        \n",
       "19486  32.0       1190.40          Individual       4.0        \n",
       "\n",
       "       pub_rec_bankruptcies  fico_score  \n",
       "6219   0.0                   802.0       \n",
       "6460   0.0                   687.0       \n",
       "9270   0.0                   712.0       \n",
       "16977  0.0                   597.0       \n",
       "19486  0.0                   747.0       "
      ]
     },
     "execution_count": 13,
     "metadata": {},
     "output_type": "execute_result"
    }
   ],
   "source": [
    "df_train1.head()"
   ]
  },
  {
   "cell_type": "code",
   "execution_count": 14,
   "metadata": {},
   "outputs": [],
   "source": [
    "df_train2 = df_train1[df_train1['dti'] > 60]"
   ]
  },
  {
   "cell_type": "code",
   "execution_count": 15,
   "metadata": {},
   "outputs": [
    {
     "data": {
      "text/plain": [
       "(0, 23)"
      ]
     },
     "execution_count": 15,
     "metadata": {},
     "output_type": "execute_result"
    }
   ],
   "source": [
    "df_train2.shape"
   ]
  },
  {
   "cell_type": "code",
   "execution_count": 16,
   "metadata": {},
   "outputs": [],
   "source": [
    "df_train4 = df_train[df_train['revol_bal'] > 1000000]"
   ]
  },
  {
   "cell_type": "code",
   "execution_count": 17,
   "metadata": {},
   "outputs": [
    {
     "data": {
      "text/plain": [
       "(15, 23)"
      ]
     },
     "execution_count": 17,
     "metadata": {},
     "output_type": "execute_result"
    }
   ],
   "source": [
    "df_train4.shape"
   ]
  },
  {
   "cell_type": "code",
   "execution_count": 18,
   "metadata": {},
   "outputs": [],
   "source": [
    "df_train5 = df_train1[df_train1['fico_score'] <= 0]"
   ]
  },
  {
   "cell_type": "code",
   "execution_count": 19,
   "metadata": {},
   "outputs": [
    {
     "data": {
      "text/plain": [
       "(0, 23)"
      ]
     },
     "execution_count": 19,
     "metadata": {},
     "output_type": "execute_result"
    }
   ],
   "source": [
    "df_train5.shape"
   ]
  },
  {
   "cell_type": "code",
   "execution_count": 20,
   "metadata": {},
   "outputs": [],
   "source": [
    "df_train1 = df_train[df_train['annual_inc'] <= 1000000]\n",
    "\n",
    "df_train2 = df_train1[df_train1['dti'] <= 60]\n",
    "\n",
    "df_train3 = df_train2[df_train2['revol_bal'] <= 1000000]\n",
    "\n",
    "df_train4 = df_train3[df_train3['fico_score'] > 0]\n",
    "\n",
    "df_train5 = df_train4[df_train4['dti'] > -1]"
   ]
  },
  {
   "cell_type": "code",
   "execution_count": 21,
   "metadata": {},
   "outputs": [],
   "source": [
    "df_train5 = df_train"
   ]
  },
  {
   "cell_type": "markdown",
   "metadata": {},
   "source": [
    "### **Encoding Variables**\n",
    "\n",
    "<a id=\"5\"></a>\n",
    "\n",
    "---"
   ]
  },
  {
   "cell_type": "markdown",
   "metadata": {},
   "source": [
    "**Encoding the target variable**\n",
    "\n",
    "Many of our model variables are categorical and these need to be properly encoded for modeling."
   ]
  },
  {
   "cell_type": "code",
   "execution_count": 22,
   "metadata": {},
   "outputs": [],
   "source": [
    "df_train['loans'] = df_train['loan_status'].map({'Charged Off': 1, 'Fully Paid': 0})\n",
    "\n",
    "df_train.drop(['loan_status'],1, inplace=True)"
   ]
  },
  {
   "cell_type": "code",
   "execution_count": 23,
   "metadata": {},
   "outputs": [
    {
     "data": {
      "text/plain": [
       "loan_amnt               0.065604\n",
       "term                    0.176096\n",
       "int_rate                0.258792\n",
       "annual_inc             -0.041759\n",
       "dti                     0.084510\n",
       "delinq_2yrs             0.019381\n",
       "inq_last_6mths          0.065454\n",
       "open_acc                0.028078\n",
       "pub_rec                 0.026194\n",
       "revol_bal              -0.020010\n",
       "revol_util              0.060048\n",
       "total_acc              -0.011300\n",
       "last_pymnt_amnt        -0.347385\n",
       "mort_acc               -0.075294\n",
       "pub_rec_bankruptcies    0.025308\n",
       "fico_score             -0.636838\n",
       "loans                   1.000000\n",
       "dtype: float64"
      ]
     },
     "execution_count": 23,
     "metadata": {},
     "output_type": "execute_result"
    }
   ],
   "source": [
    "df_train1 = df_train.corrwith(df_train['loans'])\n",
    "\n",
    "df_train1"
   ]
  },
  {
   "cell_type": "code",
   "execution_count": 24,
   "metadata": {},
   "outputs": [],
   "source": [
    "# Create a modeling dataset from the original dataset\n",
    "\n",
    "X = df_train.copy(deep=True)"
   ]
  },
  {
   "cell_type": "code",
   "execution_count": 25,
   "metadata": {},
   "outputs": [],
   "source": [
    "# Create the Target Variable\n",
    "\n",
    "y = X['loans']"
   ]
  },
  {
   "cell_type": "markdown",
   "metadata": {},
   "source": [
    "------"
   ]
  },
  {
   "cell_type": "markdown",
   "metadata": {},
   "source": [
    "**Splitting the data into a train and test set**\n",
    "\n",
    "For this research, the data was splitted in 80% for training and 20% for testing"
   ]
  },
  {
   "cell_type": "code",
   "execution_count": 26,
   "metadata": {},
   "outputs": [],
   "source": [
    "# Split into train and test\n",
    "\n",
    "X_train, X_test, y_train, y_test = train_test_split(X, y, test_size=0.2, stratify=y, random_state=42)"
   ]
  },
  {
   "cell_type": "code",
   "execution_count": 27,
   "metadata": {},
   "outputs": [],
   "source": [
    "# Remove the Target from the training\n",
    "\n",
    "X_train = X_train.drop(['loans'],1)\n",
    "\n",
    "X_test = X_test.drop(['loans'],1)"
   ]
  },
  {
   "cell_type": "markdown",
   "metadata": {
    "tags": []
   },
   "source": [
    "### **Building a Machine Learning Pipeline**\n",
    "\n",
    "<a id=\"6\"></a>\n",
    "\n",
    "**Modeling KNN**\n",
    "\n",
    "---"
   ]
  },
  {
   "cell_type": "markdown",
   "metadata": {},
   "source": [
    "A machine learning pipeline is a way to automate the workflow enabling data to be transformed and correlated into a model that can then be analyzed to achieve outputs. This type of ML pipeline makes the process of inputting data into the ML model fully automated.\n",
    "\n",
    "For this particular notebook we are going to focus on modeling **KNN**\n",
    "\n",
    "KNN is a distance based algorithm, taking majority vote between the “K” closest observations. \n",
    "\n",
    "The Pipeline that we are going to build is going to do the following steps:\n",
    "\n",
    "1) Deal with missing values: All missing values were median imputed;\n",
    "\n",
    "2) Encode categorical varaibles using Ordinal Encoding and One hot Encoding. Bello we present our reasoning:\n",
    "\n",
    "There are two types of categorical varables in our dataset:\n",
    "\n",
    "- **Ordinal variables:** The levels of the variable follow a specific order - Grade variable we know that: **A>B>C>D>E>F>G**. To deal with this we map each grade feature with an interger respecting said ordering;\n",
    "\n",
    "- **Categorical variables**: The levels of the variables do not follow a specific order. Mapping these levels will introduce an order which in this case it is not desirable. We stored these variables in a list and then we use the OneHotEncoder library\n",
    "\n",
    "\n",
    "3) Standardize features by removing the mean and scaling to unit variance using StandardScaler\n",
    "\n",
    "4) PCA: Due to the large size of the dataset we performed Principal Componenet Analysis as it helps to deal with multicolienarity"
   ]
  },
  {
   "cell_type": "markdown",
   "metadata": {},
   "source": [
    "**Categorical Columns**"
   ]
  },
  {
   "cell_type": "code",
   "execution_count": 28,
   "metadata": {},
   "outputs": [
    {
     "name": "stdout",
     "output_type": "stream",
     "text": [
      "Categorical columns are: ['grade', 'home_ownership', 'verification_status', 'purpose', 'addr_state', 'application_type']\n"
     ]
    }
   ],
   "source": [
    "categorical_variables = list(X_train.select_dtypes('object').columns)\n",
    "\n",
    "print(f\"Categorical columns are: {categorical_variables}\")"
   ]
  },
  {
   "cell_type": "markdown",
   "metadata": {},
   "source": [
    "**Numerical Columns**"
   ]
  },
  {
   "cell_type": "code",
   "execution_count": 29,
   "metadata": {},
   "outputs": [
    {
     "name": "stdout",
     "output_type": "stream",
     "text": [
      "Numerical columns are: ['loan_amnt', 'term', 'int_rate', 'annual_inc', 'dti', 'delinq_2yrs', 'inq_last_6mths', 'open_acc', 'pub_rec', 'revol_bal', 'revol_util', 'total_acc', 'last_pymnt_amnt', 'mort_acc', 'pub_rec_bankruptcies', 'fico_score']\n"
     ]
    }
   ],
   "source": [
    "numerical_variables = list(X_train.select_dtypes('number').columns)\n",
    "\n",
    "print(f\"Numerical columns are: {numerical_variables}\")"
   ]
  },
  {
   "cell_type": "markdown",
   "metadata": {},
   "source": [
    "We are going to make two list for categorical varaibles making implementi pipelines easier"
   ]
  },
  {
   "cell_type": "code",
   "execution_count": 30,
   "metadata": {},
   "outputs": [],
   "source": [
    "one_hot_encoding_variables = ['home_ownership', 'purpose', 'addr_state', \"verification_status\", \"application_type\"]\n",
    "\n",
    "ordinal_encoding_variables = [\"grade\"]"
   ]
  },
  {
   "cell_type": "markdown",
   "metadata": {},
   "source": [
    "- Numerical Pipeline"
   ]
  },
  {
   "cell_type": "code",
   "execution_count": 31,
   "metadata": {},
   "outputs": [],
   "source": [
    "scaler = StandardScaler()\n",
    "\n",
    "numeric_col_transformer = Pipeline(steps=[  \n",
    "    ('imputer', SimpleImputer(strategy='median')),\n",
    "    (\"scaler\",scaler),\n",
    "])"
   ]
  },
  {
   "cell_type": "markdown",
   "metadata": {},
   "source": [
    "- Ordinal Pipeline"
   ]
  },
  {
   "cell_type": "code",
   "execution_count": 32,
   "metadata": {},
   "outputs": [],
   "source": [
    "ordinal_col_transformer = Pipeline(steps=[\n",
    "    ('ordinalencoder', OrdinalEncoder()),\n",
    "])"
   ]
  },
  {
   "cell_type": "markdown",
   "metadata": {},
   "source": [
    "- One Hot Encoding Pipeline"
   ]
  },
  {
   "cell_type": "code",
   "execution_count": 33,
   "metadata": {},
   "outputs": [],
   "source": [
    "one_hot_col_transformer = Pipeline(steps=[\n",
    "   ('onehotencoder', OneHotEncoder(sparse=False, handle_unknown = \"ignore\")),\n",
    "])"
   ]
  },
  {
   "cell_type": "markdown",
   "metadata": {},
   "source": [
    "**Putting it all together**"
   ]
  },
  {
   "cell_type": "code",
   "execution_count": 34,
   "metadata": {},
   "outputs": [],
   "source": [
    "preprocessing_pipeline = ColumnTransformer(transformers=[\n",
    "    (\"numerical\",numeric_col_transformer, numerical_variables),\n",
    "    (\"categorical_ordinal\", ordinal_col_transformer, ordinal_encoding_variables),\n",
    "    (\"categorical_onehot\", one_hot_col_transformer, one_hot_encoding_variables),\n",
    "])"
   ]
  },
  {
   "cell_type": "code",
   "execution_count": 35,
   "metadata": {},
   "outputs": [
    {
     "data": {
      "text/plain": [
       "Pipeline(steps=[('preprocessor',\n",
       "                 ColumnTransformer(transformers=[('numerical',\n",
       "                                                  Pipeline(steps=[('imputer',\n",
       "                                                                   SimpleImputer(strategy='median')),\n",
       "                                                                  ('scaler',\n",
       "                                                                   StandardScaler())]),\n",
       "                                                  ['loan_amnt', 'term',\n",
       "                                                   'int_rate', 'annual_inc',\n",
       "                                                   'dti', 'delinq_2yrs',\n",
       "                                                   'inq_last_6mths', 'open_acc',\n",
       "                                                   'pub_rec', 'revol_bal',\n",
       "                                                   'revol_util', 'total_acc',\n",
       "                                                   'last_pymnt_amnt',\n",
       "                                                   'mort_acc',\n",
       "                                                   'pub_rec_bankr...\n",
       "                                                   'fico_score']),\n",
       "                                                 ('categorical_ordinal',\n",
       "                                                  Pipeline(steps=[('ordinalencoder',\n",
       "                                                                   OrdinalEncoder())]),\n",
       "                                                  ['grade']),\n",
       "                                                 ('categorical_onehot',\n",
       "                                                  Pipeline(steps=[('onehotencoder',\n",
       "                                                                   OneHotEncoder(handle_unknown='ignore',\n",
       "                                                                                 sparse=False))]),\n",
       "                                                  ['home_ownership', 'purpose',\n",
       "                                                   'addr_state',\n",
       "                                                   'verification_status',\n",
       "                                                   'application_type'])])),\n",
       "                ('pca', PCA(n_components=5)),\n",
       "                ('model', KNeighborsClassifier())])"
      ]
     },
     "execution_count": 35,
     "metadata": {},
     "output_type": "execute_result"
    }
   ],
   "source": [
    "model = KNeighborsClassifier(n_neighbors=5)\n",
    "\n",
    "scaler = StandardScaler()\n",
    "\n",
    "pca = PCA(n_components = 5)\n",
    "\n",
    "pipeline_knn = Pipeline(steps=[\n",
    "    ('preprocessor', preprocessing_pipeline),\n",
    "    (\"pca\", pca),\n",
    "    (\"model\", model)\n",
    "])\n",
    "\n",
    "pipeline_knn.fit(X_train, y_train)"
   ]
  },
  {
   "cell_type": "code",
   "execution_count": 36,
   "metadata": {},
   "outputs": [
    {
     "data": {
      "text/html": [
       "<style>#sk-396e31ae-dd75-40e0-8190-fc38359062aa {color: black;background-color: white;}#sk-396e31ae-dd75-40e0-8190-fc38359062aa pre{padding: 0;}#sk-396e31ae-dd75-40e0-8190-fc38359062aa div.sk-toggleable {background-color: white;}#sk-396e31ae-dd75-40e0-8190-fc38359062aa label.sk-toggleable__label {cursor: pointer;display: block;width: 100%;margin-bottom: 0;padding: 0.3em;box-sizing: border-box;text-align: center;}#sk-396e31ae-dd75-40e0-8190-fc38359062aa label.sk-toggleable__label-arrow:before {content: \"▸\";float: left;margin-right: 0.25em;color: #696969;}#sk-396e31ae-dd75-40e0-8190-fc38359062aa label.sk-toggleable__label-arrow:hover:before {color: black;}#sk-396e31ae-dd75-40e0-8190-fc38359062aa div.sk-estimator:hover label.sk-toggleable__label-arrow:before {color: black;}#sk-396e31ae-dd75-40e0-8190-fc38359062aa div.sk-toggleable__content {max-height: 0;max-width: 0;overflow: hidden;text-align: left;background-color: #f0f8ff;}#sk-396e31ae-dd75-40e0-8190-fc38359062aa div.sk-toggleable__content pre {margin: 0.2em;color: black;border-radius: 0.25em;background-color: #f0f8ff;}#sk-396e31ae-dd75-40e0-8190-fc38359062aa input.sk-toggleable__control:checked~div.sk-toggleable__content {max-height: 200px;max-width: 100%;overflow: auto;}#sk-396e31ae-dd75-40e0-8190-fc38359062aa input.sk-toggleable__control:checked~label.sk-toggleable__label-arrow:before {content: \"▾\";}#sk-396e31ae-dd75-40e0-8190-fc38359062aa div.sk-estimator input.sk-toggleable__control:checked~label.sk-toggleable__label {background-color: #d4ebff;}#sk-396e31ae-dd75-40e0-8190-fc38359062aa div.sk-label input.sk-toggleable__control:checked~label.sk-toggleable__label {background-color: #d4ebff;}#sk-396e31ae-dd75-40e0-8190-fc38359062aa input.sk-hidden--visually {border: 0;clip: rect(1px 1px 1px 1px);clip: rect(1px, 1px, 1px, 1px);height: 1px;margin: -1px;overflow: hidden;padding: 0;position: absolute;width: 1px;}#sk-396e31ae-dd75-40e0-8190-fc38359062aa div.sk-estimator {font-family: monospace;background-color: #f0f8ff;border: 1px dotted black;border-radius: 0.25em;box-sizing: border-box;margin-bottom: 0.5em;}#sk-396e31ae-dd75-40e0-8190-fc38359062aa div.sk-estimator:hover {background-color: #d4ebff;}#sk-396e31ae-dd75-40e0-8190-fc38359062aa div.sk-parallel-item::after {content: \"\";width: 100%;border-bottom: 1px solid gray;flex-grow: 1;}#sk-396e31ae-dd75-40e0-8190-fc38359062aa div.sk-label:hover label.sk-toggleable__label {background-color: #d4ebff;}#sk-396e31ae-dd75-40e0-8190-fc38359062aa div.sk-serial::before {content: \"\";position: absolute;border-left: 1px solid gray;box-sizing: border-box;top: 2em;bottom: 0;left: 50%;}#sk-396e31ae-dd75-40e0-8190-fc38359062aa div.sk-serial {display: flex;flex-direction: column;align-items: center;background-color: white;padding-right: 0.2em;padding-left: 0.2em;}#sk-396e31ae-dd75-40e0-8190-fc38359062aa div.sk-item {z-index: 1;}#sk-396e31ae-dd75-40e0-8190-fc38359062aa div.sk-parallel {display: flex;align-items: stretch;justify-content: center;background-color: white;}#sk-396e31ae-dd75-40e0-8190-fc38359062aa div.sk-parallel::before {content: \"\";position: absolute;border-left: 1px solid gray;box-sizing: border-box;top: 2em;bottom: 0;left: 50%;}#sk-396e31ae-dd75-40e0-8190-fc38359062aa div.sk-parallel-item {display: flex;flex-direction: column;position: relative;background-color: white;}#sk-396e31ae-dd75-40e0-8190-fc38359062aa div.sk-parallel-item:first-child::after {align-self: flex-end;width: 50%;}#sk-396e31ae-dd75-40e0-8190-fc38359062aa div.sk-parallel-item:last-child::after {align-self: flex-start;width: 50%;}#sk-396e31ae-dd75-40e0-8190-fc38359062aa div.sk-parallel-item:only-child::after {width: 0;}#sk-396e31ae-dd75-40e0-8190-fc38359062aa div.sk-dashed-wrapped {border: 1px dashed gray;margin: 0 0.4em 0.5em 0.4em;box-sizing: border-box;padding-bottom: 0.4em;background-color: white;position: relative;}#sk-396e31ae-dd75-40e0-8190-fc38359062aa div.sk-label label {font-family: monospace;font-weight: bold;background-color: white;display: inline-block;line-height: 1.2em;}#sk-396e31ae-dd75-40e0-8190-fc38359062aa div.sk-label-container {position: relative;z-index: 2;text-align: center;}#sk-396e31ae-dd75-40e0-8190-fc38359062aa div.sk-container {/* jupyter's `normalize.less` sets `[hidden] { display: none; }` but bootstrap.min.css set `[hidden] { display: none !important; }` so we also need the `!important` here to be able to override the default hidden behavior on the sphinx rendered scikit-learn.org. See: https://github.com/scikit-learn/scikit-learn/issues/21755 */display: inline-block !important;position: relative;}#sk-396e31ae-dd75-40e0-8190-fc38359062aa div.sk-text-repr-fallback {display: none;}</style><div id=\"sk-396e31ae-dd75-40e0-8190-fc38359062aa\" class=\"sk-top-container\"><div class=\"sk-text-repr-fallback\"><pre>Pipeline(steps=[(&#x27;preprocessor&#x27;,\n",
       "                 ColumnTransformer(transformers=[(&#x27;numerical&#x27;,\n",
       "                                                  Pipeline(steps=[(&#x27;imputer&#x27;,\n",
       "                                                                   SimpleImputer(strategy=&#x27;median&#x27;)),\n",
       "                                                                  (&#x27;scaler&#x27;,\n",
       "                                                                   StandardScaler())]),\n",
       "                                                  [&#x27;loan_amnt&#x27;, &#x27;term&#x27;,\n",
       "                                                   &#x27;int_rate&#x27;, &#x27;annual_inc&#x27;,\n",
       "                                                   &#x27;dti&#x27;, &#x27;delinq_2yrs&#x27;,\n",
       "                                                   &#x27;inq_last_6mths&#x27;, &#x27;open_acc&#x27;,\n",
       "                                                   &#x27;pub_rec&#x27;, &#x27;revol_bal&#x27;,\n",
       "                                                   &#x27;revol_util&#x27;, &#x27;total_acc&#x27;,\n",
       "                                                   &#x27;last_pymnt_amnt&#x27;,\n",
       "                                                   &#x27;mort_acc&#x27;,\n",
       "                                                   &#x27;pub_rec_bankr...\n",
       "                                                   &#x27;fico_score&#x27;]),\n",
       "                                                 (&#x27;categorical_ordinal&#x27;,\n",
       "                                                  Pipeline(steps=[(&#x27;ordinalencoder&#x27;,\n",
       "                                                                   OrdinalEncoder())]),\n",
       "                                                  [&#x27;grade&#x27;]),\n",
       "                                                 (&#x27;categorical_onehot&#x27;,\n",
       "                                                  Pipeline(steps=[(&#x27;onehotencoder&#x27;,\n",
       "                                                                   OneHotEncoder(handle_unknown=&#x27;ignore&#x27;,\n",
       "                                                                                 sparse=False))]),\n",
       "                                                  [&#x27;home_ownership&#x27;, &#x27;purpose&#x27;,\n",
       "                                                   &#x27;addr_state&#x27;,\n",
       "                                                   &#x27;verification_status&#x27;,\n",
       "                                                   &#x27;application_type&#x27;])])),\n",
       "                (&#x27;pca&#x27;, PCA(n_components=5)),\n",
       "                (&#x27;model&#x27;, KNeighborsClassifier())])</pre><b>Please rerun this cell to show the HTML repr or trust the notebook.</b></div><div class=\"sk-container\" hidden><div class=\"sk-item sk-dashed-wrapped\"><div class=\"sk-label-container\"><div class=\"sk-label sk-toggleable\"><input class=\"sk-toggleable__control sk-hidden--visually\" id=\"07b4e0fb-abc0-48c0-8448-8ef7b47e0677\" type=\"checkbox\" ><label for=\"07b4e0fb-abc0-48c0-8448-8ef7b47e0677\" class=\"sk-toggleable__label sk-toggleable__label-arrow\">Pipeline</label><div class=\"sk-toggleable__content\"><pre>Pipeline(steps=[(&#x27;preprocessor&#x27;,\n",
       "                 ColumnTransformer(transformers=[(&#x27;numerical&#x27;,\n",
       "                                                  Pipeline(steps=[(&#x27;imputer&#x27;,\n",
       "                                                                   SimpleImputer(strategy=&#x27;median&#x27;)),\n",
       "                                                                  (&#x27;scaler&#x27;,\n",
       "                                                                   StandardScaler())]),\n",
       "                                                  [&#x27;loan_amnt&#x27;, &#x27;term&#x27;,\n",
       "                                                   &#x27;int_rate&#x27;, &#x27;annual_inc&#x27;,\n",
       "                                                   &#x27;dti&#x27;, &#x27;delinq_2yrs&#x27;,\n",
       "                                                   &#x27;inq_last_6mths&#x27;, &#x27;open_acc&#x27;,\n",
       "                                                   &#x27;pub_rec&#x27;, &#x27;revol_bal&#x27;,\n",
       "                                                   &#x27;revol_util&#x27;, &#x27;total_acc&#x27;,\n",
       "                                                   &#x27;last_pymnt_amnt&#x27;,\n",
       "                                                   &#x27;mort_acc&#x27;,\n",
       "                                                   &#x27;pub_rec_bankr...\n",
       "                                                   &#x27;fico_score&#x27;]),\n",
       "                                                 (&#x27;categorical_ordinal&#x27;,\n",
       "                                                  Pipeline(steps=[(&#x27;ordinalencoder&#x27;,\n",
       "                                                                   OrdinalEncoder())]),\n",
       "                                                  [&#x27;grade&#x27;]),\n",
       "                                                 (&#x27;categorical_onehot&#x27;,\n",
       "                                                  Pipeline(steps=[(&#x27;onehotencoder&#x27;,\n",
       "                                                                   OneHotEncoder(handle_unknown=&#x27;ignore&#x27;,\n",
       "                                                                                 sparse=False))]),\n",
       "                                                  [&#x27;home_ownership&#x27;, &#x27;purpose&#x27;,\n",
       "                                                   &#x27;addr_state&#x27;,\n",
       "                                                   &#x27;verification_status&#x27;,\n",
       "                                                   &#x27;application_type&#x27;])])),\n",
       "                (&#x27;pca&#x27;, PCA(n_components=5)),\n",
       "                (&#x27;model&#x27;, KNeighborsClassifier())])</pre></div></div></div><div class=\"sk-serial\"><div class=\"sk-item sk-dashed-wrapped\"><div class=\"sk-label-container\"><div class=\"sk-label sk-toggleable\"><input class=\"sk-toggleable__control sk-hidden--visually\" id=\"24226009-44bb-43eb-b57e-3efce9910a2b\" type=\"checkbox\" ><label for=\"24226009-44bb-43eb-b57e-3efce9910a2b\" class=\"sk-toggleable__label sk-toggleable__label-arrow\">preprocessor: ColumnTransformer</label><div class=\"sk-toggleable__content\"><pre>ColumnTransformer(transformers=[(&#x27;numerical&#x27;,\n",
       "                                 Pipeline(steps=[(&#x27;imputer&#x27;,\n",
       "                                                  SimpleImputer(strategy=&#x27;median&#x27;)),\n",
       "                                                 (&#x27;scaler&#x27;, StandardScaler())]),\n",
       "                                 [&#x27;loan_amnt&#x27;, &#x27;term&#x27;, &#x27;int_rate&#x27;, &#x27;annual_inc&#x27;,\n",
       "                                  &#x27;dti&#x27;, &#x27;delinq_2yrs&#x27;, &#x27;inq_last_6mths&#x27;,\n",
       "                                  &#x27;open_acc&#x27;, &#x27;pub_rec&#x27;, &#x27;revol_bal&#x27;,\n",
       "                                  &#x27;revol_util&#x27;, &#x27;total_acc&#x27;, &#x27;last_pymnt_amnt&#x27;,\n",
       "                                  &#x27;mort_acc&#x27;, &#x27;pub_rec_bankruptcies&#x27;,\n",
       "                                  &#x27;fico_score&#x27;]),\n",
       "                                (&#x27;categorical_ordinal&#x27;,\n",
       "                                 Pipeline(steps=[(&#x27;ordinalencoder&#x27;,\n",
       "                                                  OrdinalEncoder())]),\n",
       "                                 [&#x27;grade&#x27;]),\n",
       "                                (&#x27;categorical_onehot&#x27;,\n",
       "                                 Pipeline(steps=[(&#x27;onehotencoder&#x27;,\n",
       "                                                  OneHotEncoder(handle_unknown=&#x27;ignore&#x27;,\n",
       "                                                                sparse=False))]),\n",
       "                                 [&#x27;home_ownership&#x27;, &#x27;purpose&#x27;, &#x27;addr_state&#x27;,\n",
       "                                  &#x27;verification_status&#x27;, &#x27;application_type&#x27;])])</pre></div></div></div><div class=\"sk-parallel\"><div class=\"sk-parallel-item\"><div class=\"sk-item\"><div class=\"sk-label-container\"><div class=\"sk-label sk-toggleable\"><input class=\"sk-toggleable__control sk-hidden--visually\" id=\"2adc0cd4-348c-4d41-9126-73d1aec614b4\" type=\"checkbox\" ><label for=\"2adc0cd4-348c-4d41-9126-73d1aec614b4\" class=\"sk-toggleable__label sk-toggleable__label-arrow\">numerical</label><div class=\"sk-toggleable__content\"><pre>[&#x27;loan_amnt&#x27;, &#x27;term&#x27;, &#x27;int_rate&#x27;, &#x27;annual_inc&#x27;, &#x27;dti&#x27;, &#x27;delinq_2yrs&#x27;, &#x27;inq_last_6mths&#x27;, &#x27;open_acc&#x27;, &#x27;pub_rec&#x27;, &#x27;revol_bal&#x27;, &#x27;revol_util&#x27;, &#x27;total_acc&#x27;, &#x27;last_pymnt_amnt&#x27;, &#x27;mort_acc&#x27;, &#x27;pub_rec_bankruptcies&#x27;, &#x27;fico_score&#x27;]</pre></div></div></div><div class=\"sk-serial\"><div class=\"sk-item\"><div class=\"sk-serial\"><div class=\"sk-item\"><div class=\"sk-estimator sk-toggleable\"><input class=\"sk-toggleable__control sk-hidden--visually\" id=\"483fd10b-0888-460e-8600-bb9bc2c84de6\" type=\"checkbox\" ><label for=\"483fd10b-0888-460e-8600-bb9bc2c84de6\" class=\"sk-toggleable__label sk-toggleable__label-arrow\">SimpleImputer</label><div class=\"sk-toggleable__content\"><pre>SimpleImputer(strategy=&#x27;median&#x27;)</pre></div></div></div><div class=\"sk-item\"><div class=\"sk-estimator sk-toggleable\"><input class=\"sk-toggleable__control sk-hidden--visually\" id=\"bc09deb6-1f59-4022-b31e-e71de4cd4c9d\" type=\"checkbox\" ><label for=\"bc09deb6-1f59-4022-b31e-e71de4cd4c9d\" class=\"sk-toggleable__label sk-toggleable__label-arrow\">StandardScaler</label><div class=\"sk-toggleable__content\"><pre>StandardScaler()</pre></div></div></div></div></div></div></div></div><div class=\"sk-parallel-item\"><div class=\"sk-item\"><div class=\"sk-label-container\"><div class=\"sk-label sk-toggleable\"><input class=\"sk-toggleable__control sk-hidden--visually\" id=\"fd2b7de4-3d2d-4334-b046-92c8ad9fbd58\" type=\"checkbox\" ><label for=\"fd2b7de4-3d2d-4334-b046-92c8ad9fbd58\" class=\"sk-toggleable__label sk-toggleable__label-arrow\">categorical_ordinal</label><div class=\"sk-toggleable__content\"><pre>[&#x27;grade&#x27;]</pre></div></div></div><div class=\"sk-serial\"><div class=\"sk-item\"><div class=\"sk-serial\"><div class=\"sk-item\"><div class=\"sk-estimator sk-toggleable\"><input class=\"sk-toggleable__control sk-hidden--visually\" id=\"61efe9bf-aa81-4b9b-98f9-558058162048\" type=\"checkbox\" ><label for=\"61efe9bf-aa81-4b9b-98f9-558058162048\" class=\"sk-toggleable__label sk-toggleable__label-arrow\">OrdinalEncoder</label><div class=\"sk-toggleable__content\"><pre>OrdinalEncoder()</pre></div></div></div></div></div></div></div></div><div class=\"sk-parallel-item\"><div class=\"sk-item\"><div class=\"sk-label-container\"><div class=\"sk-label sk-toggleable\"><input class=\"sk-toggleable__control sk-hidden--visually\" id=\"4931fee2-b77e-457f-ad97-5a74ce98b495\" type=\"checkbox\" ><label for=\"4931fee2-b77e-457f-ad97-5a74ce98b495\" class=\"sk-toggleable__label sk-toggleable__label-arrow\">categorical_onehot</label><div class=\"sk-toggleable__content\"><pre>[&#x27;home_ownership&#x27;, &#x27;purpose&#x27;, &#x27;addr_state&#x27;, &#x27;verification_status&#x27;, &#x27;application_type&#x27;]</pre></div></div></div><div class=\"sk-serial\"><div class=\"sk-item\"><div class=\"sk-serial\"><div class=\"sk-item\"><div class=\"sk-estimator sk-toggleable\"><input class=\"sk-toggleable__control sk-hidden--visually\" id=\"72bd8e45-91da-4f82-8fed-092c58f09987\" type=\"checkbox\" ><label for=\"72bd8e45-91da-4f82-8fed-092c58f09987\" class=\"sk-toggleable__label sk-toggleable__label-arrow\">OneHotEncoder</label><div class=\"sk-toggleable__content\"><pre>OneHotEncoder(handle_unknown=&#x27;ignore&#x27;, sparse=False)</pre></div></div></div></div></div></div></div></div></div></div><div class=\"sk-item\"><div class=\"sk-estimator sk-toggleable\"><input class=\"sk-toggleable__control sk-hidden--visually\" id=\"ae52252a-6a22-4eb5-a6de-578044f64587\" type=\"checkbox\" ><label for=\"ae52252a-6a22-4eb5-a6de-578044f64587\" class=\"sk-toggleable__label sk-toggleable__label-arrow\">PCA</label><div class=\"sk-toggleable__content\"><pre>PCA(n_components=5)</pre></div></div></div><div class=\"sk-item\"><div class=\"sk-estimator sk-toggleable\"><input class=\"sk-toggleable__control sk-hidden--visually\" id=\"a401e6f8-81bd-49bf-8bb0-ac072c419228\" type=\"checkbox\" ><label for=\"a401e6f8-81bd-49bf-8bb0-ac072c419228\" class=\"sk-toggleable__label sk-toggleable__label-arrow\">KNeighborsClassifier</label><div class=\"sk-toggleable__content\"><pre>KNeighborsClassifier()</pre></div></div></div></div></div></div></div>"
      ],
      "text/plain": [
       "Pipeline(steps=[('preprocessor',\n",
       "                 ColumnTransformer(transformers=[('numerical',\n",
       "                                                  Pipeline(steps=[('imputer',\n",
       "                                                                   SimpleImputer(strategy='median')),\n",
       "                                                                  ('scaler',\n",
       "                                                                   StandardScaler())]),\n",
       "                                                  ['loan_amnt', 'term',\n",
       "                                                   'int_rate', 'annual_inc',\n",
       "                                                   'dti', 'delinq_2yrs',\n",
       "                                                   'inq_last_6mths', 'open_acc',\n",
       "                                                   'pub_rec', 'revol_bal',\n",
       "                                                   'revol_util', 'total_acc',\n",
       "                                                   'last_pymnt_amnt',\n",
       "                                                   'mort_acc',\n",
       "                                                   'pub_rec_bankr...\n",
       "                                                   'fico_score']),\n",
       "                                                 ('categorical_ordinal',\n",
       "                                                  Pipeline(steps=[('ordinalencoder',\n",
       "                                                                   OrdinalEncoder())]),\n",
       "                                                  ['grade']),\n",
       "                                                 ('categorical_onehot',\n",
       "                                                  Pipeline(steps=[('onehotencoder',\n",
       "                                                                   OneHotEncoder(handle_unknown='ignore',\n",
       "                                                                                 sparse=False))]),\n",
       "                                                  ['home_ownership', 'purpose',\n",
       "                                                   'addr_state',\n",
       "                                                   'verification_status',\n",
       "                                                   'application_type'])])),\n",
       "                ('pca', PCA(n_components=5)),\n",
       "                ('model', KNeighborsClassifier())])"
      ]
     },
     "execution_count": 36,
     "metadata": {},
     "output_type": "execute_result"
    }
   ],
   "source": [
    "set_config(display=\"diagram\")\n",
    "\n",
    "pipeline_knn"
   ]
  },
  {
   "cell_type": "code",
   "execution_count": 37,
   "metadata": {},
   "outputs": [],
   "source": [
    "scoring = ['accuracy', 'precision', \"recall\", \"f1\"]\n",
    "\n",
    "scores = cross_validate(pipeline_knn, X_train, y_train, scoring=scoring, return_train_score = True)"
   ]
  },
  {
   "cell_type": "code",
   "execution_count": 38,
   "metadata": {},
   "outputs": [
    {
     "data": {
      "text/plain": [
       "{'fit_time': array([13.8217802 , 12.7416718 , 15.4648962 , 14.25983071, 14.34400797]),\n",
       " 'score_time': array([20.35330057, 19.69649553, 21.49480605, 20.410218  , 22.08583212]),\n",
       " 'test_accuracy': array([0.83085714, 0.83239489, 0.83126132, 0.83048005, 0.83258459]),\n",
       " 'train_accuracy': array([0.87887661, 0.87820994, 0.87845268, 0.87760613, 0.87835991]),\n",
       " 'test_precision': array([0.5985522 , 0.60352026, 0.60042296, 0.59864815, 0.60426505]),\n",
       " 'train_precision': array([0.75160815, 0.74892283, 0.75171866, 0.74964148, 0.75085179]),\n",
       " 'test_recall': array([0.46374215, 0.46760531, 0.46251949, 0.4575857 , 0.46754637]),\n",
       " 'train_recall': array([0.58735607, 0.58654736, 0.5840189 , 0.58088295, 0.5846647 ]),\n",
       " 'test_f1': array([0.52259317, 0.52693967, 0.5225256 , 0.51869732, 0.52718589]),\n",
       " 'train_f1': array([0.65940763, 0.65786374, 0.65734156, 0.65455988, 0.65741837])}"
      ]
     },
     "execution_count": 38,
     "metadata": {},
     "output_type": "execute_result"
    }
   ],
   "source": [
    "scores"
   ]
  },
  {
   "cell_type": "code",
   "execution_count": 39,
   "metadata": {},
   "outputs": [
    {
     "data": {
      "text/plain": [
       "0.8783010515782766"
      ]
     },
     "execution_count": 39,
     "metadata": {},
     "output_type": "execute_result"
    }
   ],
   "source": [
    "scores[\"train_accuracy\"].mean()"
   ]
  },
  {
   "cell_type": "code",
   "execution_count": 40,
   "metadata": {},
   "outputs": [
    {
     "data": {
      "text/plain": [
       "0.8315155986663291"
      ]
     },
     "execution_count": 40,
     "metadata": {},
     "output_type": "execute_result"
    }
   ],
   "source": [
    "scores[\"test_accuracy\"].mean()"
   ]
  },
  {
   "cell_type": "code",
   "execution_count": 41,
   "metadata": {},
   "outputs": [
    {
     "data": {
      "text/plain": [
       "0.7505485812639001"
      ]
     },
     "execution_count": 41,
     "metadata": {},
     "output_type": "execute_result"
    }
   ],
   "source": [
    "scores[\"train_precision\"].mean()"
   ]
  },
  {
   "cell_type": "code",
   "execution_count": 42,
   "metadata": {},
   "outputs": [
    {
     "data": {
      "text/plain": [
       "0.6010817252714912"
      ]
     },
     "execution_count": 42,
     "metadata": {},
     "output_type": "execute_result"
    }
   ],
   "source": [
    "scores[\"test_precision\"].mean()"
   ]
  },
  {
   "cell_type": "code",
   "execution_count": 43,
   "metadata": {},
   "outputs": [
    {
     "data": {
      "text/plain": [
       "0.584693996792412"
      ]
     },
     "execution_count": 43,
     "metadata": {},
     "output_type": "execute_result"
    }
   ],
   "source": [
    "scores[\"train_recall\"].mean()"
   ]
  },
  {
   "cell_type": "code",
   "execution_count": 44,
   "metadata": {},
   "outputs": [
    {
     "data": {
      "text/plain": [
       "0.46379980289300793"
      ]
     },
     "execution_count": 44,
     "metadata": {},
     "output_type": "execute_result"
    }
   ],
   "source": [
    "scores[\"test_recall\"].mean()"
   ]
  },
  {
   "cell_type": "code",
   "execution_count": 45,
   "metadata": {},
   "outputs": [
    {
     "data": {
      "text/plain": [
       "0.6573182353297545"
      ]
     },
     "execution_count": 45,
     "metadata": {},
     "output_type": "execute_result"
    }
   ],
   "source": [
    "scores[\"train_f1\"].mean()"
   ]
  },
  {
   "cell_type": "code",
   "execution_count": 46,
   "metadata": {},
   "outputs": [
    {
     "data": {
      "text/plain": [
       "0.5235883300980358"
      ]
     },
     "execution_count": 46,
     "metadata": {},
     "output_type": "execute_result"
    }
   ],
   "source": [
    "scores[\"test_f1\"].mean()"
   ]
  },
  {
   "cell_type": "code",
   "execution_count": 47,
   "metadata": {},
   "outputs": [
    {
     "name": "stdout",
     "output_type": "stream",
     "text": [
      "The AUC Score for the train (before tunning) is: 0.9288875968353374\n"
     ]
    }
   ],
   "source": [
    "print(\"The AUC Score for the train (before tunning) is:\", roc_auc_score(y_train, pipeline_knn.predict_proba(X_train)[:,1]))"
   ]
  },
  {
   "cell_type": "code",
   "execution_count": 48,
   "metadata": {},
   "outputs": [
    {
     "name": "stdout",
     "output_type": "stream",
     "text": [
      "The AUC Score for the test (before tunning) is: 0.8113240790134645\n"
     ]
    }
   ],
   "source": [
    "print(\"The AUC Score for the test (before tunning) is:\", roc_auc_score(y_test, pipeline_knn.predict_proba(X_test)[:,1]))"
   ]
  },
  {
   "cell_type": "markdown",
   "metadata": {},
   "source": [
    "**Applying Stratified K Fold Cross Validation**"
   ]
  },
  {
   "cell_type": "markdown",
   "metadata": {
    "tags": []
   },
   "source": [
    "Cross-validation is a resampling procedure used to evaluate machine learning models on a limited data sample.\n",
    "\n",
    "The procedure has a single parameter called k that refers to the number of groups that a given data sample is to be split into. When a specific value for k is chosen, it may be used in place of k in the reference to the model.\n",
    "\n",
    "The general procedure of k fold cross validation goes as follows:\n",
    "\n",
    "- Shuffle the dataset randomly.\n",
    "- Pick a number of folds. For this research we considered K = 5 folds where 1 fold will be the test set and the remaining k-1 the training set\n",
    "- Train the model on the training set. On each iteration of cross-validation, you must train a new model independently of the model trained on the previous iteration\n",
    "- Validate the results on the test set by taking the average score\n",
    "\n",
    "There are many types of cross-validation procedures but for this scenatio we are going to use Stratified K Fold Cross Validation  which is an extension of the cross-validation technique used for classification problems. \n",
    "\n",
    "It maintains the same class ratio throughout the K folds as the ratio in the original dataset. Ideal for imbalanced data"
   ]
  },
  {
   "cell_type": "code",
   "execution_count": 49,
   "metadata": {},
   "outputs": [],
   "source": [
    "KF = StratifiedKFold(n_splits = 5)"
   ]
  },
  {
   "cell_type": "markdown",
   "metadata": {},
   "source": [
    "### **Hyperparameter Tunning using GridSearchCV**\n",
    "\n",
    "When designing a machine learning model, we will be presented with different choices as to how to define your model architecture. \n",
    "\n",
    "Often times, we don't immediately know what the optimal model architecture should be for a given model, and thus we'd like to be able to explore a range of possibilities. \n",
    "\n",
    "Parameters which define the model architecture are referred to as hyperparameters and thus this process of searching for the ideal model architecture is referred to as hyperparameter tuning.\n",
    "\n",
    "This process usually goes as follows:\n",
    "- Define a model\n",
    "- Define the range of possible values for all hyperparameters (parameter grid)\n",
    "- Define a method for sampling hyperparameter values\n",
    "- Define an evaluative criteria to evaluate the model\n",
    "- Define a cross-validation method"
   ]
  },
  {
   "cell_type": "code",
   "execution_count": 50,
   "metadata": {},
   "outputs": [],
   "source": [
    "param_grid_knn = {}\n",
    "    \n",
    "param_grid_knn['model__n_neighbors'] = [3,5,7,9,11]"
   ]
  },
  {
   "cell_type": "markdown",
   "metadata": {},
   "source": [
    "Applying GridSearchCV"
   ]
  },
  {
   "cell_type": "code",
   "execution_count": 51,
   "metadata": {},
   "outputs": [
    {
     "name": "stdout",
     "output_type": "stream",
     "text": [
      "Fitting 5 folds for each of 5 candidates, totalling 25 fits\n"
     ]
    }
   ],
   "source": [
    "grid_knn = GridSearchCV(pipeline_knn, param_grid_knn,\n",
    "                              scoring = 'f1', pre_dispatch = 3,\n",
    "                              n_jobs = -1, cv = KF, verbose = 10, return_train_score = True)\n",
    "\n",
    "search = grid_knn.fit(X_train, y_train)"
   ]
  },
  {
   "cell_type": "code",
   "execution_count": 52,
   "metadata": {},
   "outputs": [
    {
     "data": {
      "text/html": [
       "<div>\n",
       "<style scoped>\n",
       "    .dataframe tbody tr th:only-of-type {\n",
       "        vertical-align: middle;\n",
       "    }\n",
       "\n",
       "    .dataframe tbody tr th {\n",
       "        vertical-align: top;\n",
       "    }\n",
       "\n",
       "    .dataframe thead th {\n",
       "        text-align: right;\n",
       "    }\n",
       "</style>\n",
       "<table border=\"1\" class=\"dataframe\">\n",
       "  <thead>\n",
       "    <tr style=\"text-align: right;\">\n",
       "      <th></th>\n",
       "      <th>model__n_neighbors</th>\n",
       "      <th>roc_auc</th>\n",
       "    </tr>\n",
       "  </thead>\n",
       "  <tbody>\n",
       "    <tr>\n",
       "      <th>0</th>\n",
       "      <td>3</td>\n",
       "      <td>0.512657</td>\n",
       "    </tr>\n",
       "    <tr>\n",
       "      <th>1</th>\n",
       "      <td>5</td>\n",
       "      <td>0.523658</td>\n",
       "    </tr>\n",
       "    <tr>\n",
       "      <th>2</th>\n",
       "      <td>7</td>\n",
       "      <td>0.528353</td>\n",
       "    </tr>\n",
       "    <tr>\n",
       "      <th>3</th>\n",
       "      <td>9</td>\n",
       "      <td>0.530360</td>\n",
       "    </tr>\n",
       "    <tr>\n",
       "      <th>4</th>\n",
       "      <td>11</td>\n",
       "      <td>0.530152</td>\n",
       "    </tr>\n",
       "  </tbody>\n",
       "</table>\n",
       "</div>"
      ],
      "text/plain": [
       "   model__n_neighbors   roc_auc\n",
       "0  3                   0.512657\n",
       "1  5                   0.523658\n",
       "2  7                   0.528353\n",
       "3  9                   0.530360\n",
       "4  11                  0.530152"
      ]
     },
     "execution_count": 52,
     "metadata": {},
     "output_type": "execute_result"
    }
   ],
   "source": [
    "pd.concat([pd.DataFrame(search.cv_results_[\"params\"]),pd.DataFrame(search.cv_results_[\"mean_test_score\"], columns=[\"roc_auc\"])],axis=1)"
   ]
  },
  {
   "cell_type": "markdown",
   "metadata": {},
   "source": [
    "Best score"
   ]
  },
  {
   "cell_type": "code",
   "execution_count": 53,
   "metadata": {},
   "outputs": [
    {
     "data": {
      "text/plain": [
       "0.5303602309262546"
      ]
     },
     "execution_count": 53,
     "metadata": {},
     "output_type": "execute_result"
    }
   ],
   "source": [
    "search.best_score_"
   ]
  },
  {
   "cell_type": "markdown",
   "metadata": {},
   "source": [
    "Best Parameters"
   ]
  },
  {
   "cell_type": "code",
   "execution_count": 54,
   "metadata": {},
   "outputs": [
    {
     "data": {
      "text/plain": [
       "{'model__n_neighbors': 9}"
      ]
     },
     "execution_count": 54,
     "metadata": {},
     "output_type": "execute_result"
    }
   ],
   "source": [
    "search.best_params_"
   ]
  },
  {
   "cell_type": "markdown",
   "metadata": {},
   "source": [
    "Best Estimator and Fitting the model considering the results from GridSearchCV"
   ]
  },
  {
   "cell_type": "code",
   "execution_count": 55,
   "metadata": {},
   "outputs": [
    {
     "data": {
      "text/plain": [
       "<bound method Pipeline.fit of Pipeline(steps=[('preprocessor',\n",
       "                 ColumnTransformer(transformers=[('numerical',\n",
       "                                                  Pipeline(steps=[('imputer',\n",
       "                                                                   SimpleImputer(strategy='median')),\n",
       "                                                                  ('scaler',\n",
       "                                                                   StandardScaler())]),\n",
       "                                                  ['loan_amnt', 'term',\n",
       "                                                   'int_rate', 'annual_inc',\n",
       "                                                   'dti', 'delinq_2yrs',\n",
       "                                                   'inq_last_6mths', 'open_acc',\n",
       "                                                   'pub_rec', 'revol_bal',\n",
       "                                                   'revol_util', 'total_acc',\n",
       "                                                   'last_pymnt_amnt',\n",
       "                                                   'mort_acc',\n",
       "                                                   'pub_rec_bankr...\n",
       "                                                 ('categorical_ordinal',\n",
       "                                                  Pipeline(steps=[('ordinalencoder',\n",
       "                                                                   OrdinalEncoder())]),\n",
       "                                                  ['grade']),\n",
       "                                                 ('categorical_onehot',\n",
       "                                                  Pipeline(steps=[('onehotencoder',\n",
       "                                                                   OneHotEncoder(handle_unknown='ignore',\n",
       "                                                                                 sparse=False))]),\n",
       "                                                  ['home_ownership', 'purpose',\n",
       "                                                   'addr_state',\n",
       "                                                   'verification_status',\n",
       "                                                   'application_type'])])),\n",
       "                ('pca', PCA(n_components=5)),\n",
       "                ('model', KNeighborsClassifier(n_neighbors=9))])>"
      ]
     },
     "execution_count": 55,
     "metadata": {},
     "output_type": "execute_result"
    }
   ],
   "source": [
    "clf = search.best_estimator_\n",
    "\n",
    "# fitting the model for grid search \n",
    "\n",
    "clf.fit"
   ]
  },
  {
   "cell_type": "markdown",
   "metadata": {},
   "source": [
    "**Predictions on both the training and test set**"
   ]
  },
  {
   "cell_type": "code",
   "execution_count": 56,
   "metadata": {},
   "outputs": [],
   "source": [
    "grid_predictions_train = clf.predict(X_train)\n",
    "\n",
    "grid_predictions_test =  clf.predict(X_test)"
   ]
  },
  {
   "cell_type": "markdown",
   "metadata": {
    "tags": []
   },
   "source": [
    "### **Performance Metrics**\n",
    "\n",
    "<a id=\"7\"></a>\n",
    "\n",
    "---\n",
    "\n",
    "**Performance metrics are a part of every machine learning problem. Wether we are dealing with a classification or regression problem performance metrics are used to monitor and measure the performance of a model during training and testing. Since we are dealing with a classification problem the following performance metrics will be used:**\n",
    "\n",
    "- **Confusion Matrix:** Table layout which allows the visualization of the performance of an algorithm. A confusion matrix gives us four important measures:\n",
    "\n",
    "    - True Positives (TP) – Default situations that are correctly classified as default.\n",
    "    - True Negatives (TN) – Non-default situations that are correctly classified as non-default.\n",
    "    - False Positives (FP) - Non-default applicants, but the model classified / predicted them as default. In statistics this is known as a Type I error. (a))\n",
    "    - False Negatives (FN) – Default applicants, but the model classified / prediced them as non-default. In statistics this is known as a Type II error. (b))\n",
    "    \n",
    "    \n",
    "a)  Type I Error (False Positive, FP): When the model predicts as defaulter but not defaulted (Affects profitability)\n",
    "\n",
    "b)  Type II Error (False Negative, FN): Model predicts customer as not defaulter but defaulted (affects losses and provisions)\n",
    "\n",
    "False Positive errors affects profitability of the lender (we predicted as defaulters but was a good customer) whereas the False Negative cases affects the risk side of the business (affecting losses and provisions) as we estimated the applicant as good when actually defaulted)."
   ]
  },
  {
   "cell_type": "markdown",
   "metadata": {},
   "source": [
    "- **Accuracy:** Accuracy simply refers to the number of correct predicitions divided by the total number of predictions.It is given by:"
   ]
  },
  {
   "cell_type": "markdown",
   "metadata": {},
   "source": [
    "$$ Accuracy =  \\frac{TP+TN}{TP+TN+FP+FN}$$"
   ]
  },
  {
   "cell_type": "markdown",
   "metadata": {},
   "source": [
    "- **Precision Score**: Precision measures how accurately the model can capture default i.e out of the total predicted default cases, how many turned out to be default. "
   ]
  },
  {
   "cell_type": "markdown",
   "metadata": {},
   "source": [
    "$$ Precision =  \\frac{TP}{TP+FP}$$"
   ]
  },
  {
   "cell_type": "markdown",
   "metadata": {},
   "source": [
    "- **Recall/Sensitivity Score:** Recall or Sensitivity measures out of all the actual default cases; how many the model could predict correctly as default. \n",
    "\n",
    "     - It is known as the **True Positive Rate**"
   ]
  },
  {
   "cell_type": "markdown",
   "metadata": {},
   "source": [
    "$$ Recall =  \\frac{TP}{TP+FN}$$"
   ]
  },
  {
   "cell_type": "markdown",
   "metadata": {},
   "source": [
    "- **Specificity:** It measures the proportion of correctly identified Non Defaults over the total of Non Default prediction made by the model.\n",
    "\n",
    "    -  Also known as **True Negative Rate**\n"
   ]
  },
  {
   "cell_type": "markdown",
   "metadata": {},
   "source": [
    "$$ Specificity =  \\frac{TN}{TN+FP}$$"
   ]
  },
  {
   "cell_type": "markdown",
   "metadata": {},
   "source": [
    "- **F1 Score:** : F1 Score represents a balance between precision and recall. Mathematically:"
   ]
  },
  {
   "cell_type": "markdown",
   "metadata": {},
   "source": [
    "$$ F1  Score = 2 * \\frac {(precision * recall)}{(precision + recall)}$$"
   ]
  },
  {
   "cell_type": "markdown",
   "metadata": {},
   "source": [
    "- **ROC Curve and AUC Score:** ROC is a probability curve and AUC represent the degree or measure of separability. It tells how much the model is capable of distinguishing between classes."
   ]
  },
  {
   "cell_type": "markdown",
   "metadata": {},
   "source": [
    "A critical and somewhat overlooked part of classification is deciding whether to prioritize precision or recall. This is more of a business question than a data science one and requires that we have a clear idea of our objective as well as how the costs of false positives compare to those of false negatives."
   ]
  },
  {
   "cell_type": "markdown",
   "metadata": {},
   "source": [
    "**Defining a funtion for the performance metrics**"
   ]
  },
  {
   "cell_type": "code",
   "execution_count": 57,
   "metadata": {},
   "outputs": [],
   "source": [
    "def performanceMetricsDF(metricsObj, yTrain, yPredTrain, yTest, yPredTest):\n",
    "    \n",
    "  measures_list = ['ACCURACY','PRECISION', 'RECALL', \"F1 SCORE\"]\n",
    "\n",
    "  train_results = [metricsObj.accuracy_score(yTrain, yPredTrain),\n",
    "                metricsObj.precision_score(yTrain, yPredTrain),\n",
    "                metricsObj.recall_score(yTrain, yPredTrain),\n",
    "                metricsObj.f1_score(yTrain, yPredTrain)]\n",
    "    \n",
    "  test_results = [metricsObj.accuracy_score(yTest, yPredTest),\n",
    "                metricsObj.precision_score(yTest, yPredTest),\n",
    "                metricsObj.recall_score(yTest, yPredTest),\n",
    "                metricsObj.f1_score(yTest, yPredTest)]\n",
    "\n",
    "  resultsDF = pd.DataFrame({'Measure': measures_list, 'Train': train_results, 'Test':test_results})\n",
    "    \n",
    "  return(resultsDF)"
   ]
  },
  {
   "cell_type": "markdown",
   "metadata": {},
   "source": [
    "**Defining a funtion for the confusion matrix**"
   ]
  },
  {
   "cell_type": "code",
   "execution_count": 58,
   "metadata": {},
   "outputs": [],
   "source": [
    "def make_confusion_matrix(cf,\n",
    "                          group_names=None,\n",
    "                          categories='auto',\n",
    "                          count=True,\n",
    "                          percent=True,\n",
    "                          cbar=True,\n",
    "                          xyticks=True,\n",
    "                          xyplotlabels=True,\n",
    "                          sum_stats=True,\n",
    "                          figsize=None,\n",
    "                          cmap='Blues',\n",
    "                          title=None):\n",
    " \n",
    "\n",
    "    # CODE TO GENERATE TEXT INSIDE EACH SQUARE\n",
    "    blanks = ['' for i in range(cf.size)]\n",
    "\n",
    "    if group_names and len(group_names)==cf.size:\n",
    "        group_labels = [\"{}\\n\".format(value) for value in group_names]\n",
    "    else:\n",
    "        group_labels = blanks\n",
    "\n",
    "    if count:\n",
    "        group_counts = [\"{0:0.0f}\\n\".format(value) for value in cf.flatten()]\n",
    "    else:\n",
    "        group_counts = blanks\n",
    "\n",
    "    if percent:\n",
    "        group_percentages = [\"{0:.2%}\".format(value) for value in cf.flatten()/np.sum(cf)]\n",
    "    else:\n",
    "        group_percentages = blanks\n",
    "\n",
    "    box_labels = [f\"{v1}{v2}{v3}\".strip() for v1, v2, v3 in zip(group_labels,group_counts,group_percentages)]\n",
    "    box_labels = np.asarray(box_labels).reshape(cf.shape[0],cf.shape[1])\n",
    "\n",
    "\n",
    "    # CODE TO GENERATE SUMMARY STATISTICS & TEXT FOR SUMMARY STATS\n",
    "    if sum_stats:\n",
    "        #Accuracy is sum of diagonal divided by total observations\n",
    "        accuracy  = np.trace(cf) / float(np.sum(cf))\n",
    "\n",
    "        #if it is a binary confusion matrix, show some more stats\n",
    "        if len(cf)==2:\n",
    "            #Metrics for Binary Confusion Matrices\n",
    "            precision = cf[1,1] / sum(cf[:,1])\n",
    "            recall    = cf[1,1] / sum(cf[1,:])\n",
    "            f1_score  = 2*precision*recall / (precision + recall)\n",
    "            stats_text = \"\\n\\nAccuracy={:0.3f}\\nPrecision={:0.3f}\\nRecall={:0.3f}\\nF1 Score={:0.3f}\".format(\n",
    "                accuracy,precision,recall,f1_score)\n",
    "        else:\n",
    "            stats_text = \"\\n\\nAccuracy={:0.3f}\".format(accuracy)\n",
    "    else:\n",
    "        stats_text = \"\"\n",
    "\n",
    "\n",
    "    # SET FIGURE PARAMETERS ACCORDING TO OTHER ARGUMENTS\n",
    "    if figsize==None:\n",
    "        #Get default figure size if not set\n",
    "        figsize = plt.rcParams.get('figure.figsize')\n",
    "\n",
    "    if xyticks==False:\n",
    "        #Do not show categories if xyticks is False\n",
    "        categories=False\n",
    "\n",
    "\n",
    "    # MAKE THE HEATMAP VISUALIZATION\n",
    "    plt.figure(figsize=figsize)\n",
    "    ax = sns.heatmap(cf,annot=box_labels, fmt=\"\",cmap=cmap,cbar=cbar,xticklabels=categories,yticklabels=categories)\n",
    "    bottom, top = ax.get_ylim() # These two lines were added due to bug on current Seaborn version\n",
    "    ax.set_ylim(bottom + 0.5, top - 0.5) #\n",
    "\n",
    "    if xyplotlabels:\n",
    "        plt.ylabel('True label')\n",
    "        plt.xlabel('Predicted label')\n",
    "    else:\n",
    "        plt.xlabel(stats_text)\n",
    "    \n",
    "    if title:\n",
    "        plt.title(title)"
   ]
  },
  {
   "cell_type": "markdown",
   "metadata": {},
   "source": [
    "**Plot Confusion Matrix**"
   ]
  },
  {
   "cell_type": "code",
   "execution_count": 59,
   "metadata": {},
   "outputs": [
    {
     "data": {
      "image/png": "[encoded data removed]",
      "text/plain": [
       "<Figure size 1080x720 with 2 Axes>"
      ]
     },
     "metadata": {
      "needs_background": "light"
     },
     "output_type": "display_data"
    }
   ],
   "source": [
    "cf = metrics.confusion_matrix(y_test, grid_predictions_test)\n",
    "\n",
    "labels = ['True Neg','False Pos','False Neg','True Pos']\n",
    "\n",
    "categories = ['Non Default', 'Default']\n",
    "\n",
    "make_confusion_matrix(cf, group_names=labels,categories=categories, cmap='Blues', figsize = (15,10))"
   ]
  },
  {
   "cell_type": "markdown",
   "metadata": {},
   "source": [
    "**Dataframe with results for the Positive Class (Predict Default)**\n",
    "\n",
    "This Dataframe compiles the information of the positive class for the train and test set using the results of both classification reports"
   ]
  },
  {
   "cell_type": "code",
   "execution_count": 60,
   "metadata": {},
   "outputs": [
    {
     "data": {
      "text/html": [
       "<div>\n",
       "<style scoped>\n",
       "    .dataframe tbody tr th:only-of-type {\n",
       "        vertical-align: middle;\n",
       "    }\n",
       "\n",
       "    .dataframe tbody tr th {\n",
       "        vertical-align: top;\n",
       "    }\n",
       "\n",
       "    .dataframe thead th {\n",
       "        text-align: right;\n",
       "    }\n",
       "</style>\n",
       "<table border=\"1\" class=\"dataframe\">\n",
       "  <thead>\n",
       "    <tr style=\"text-align: right;\">\n",
       "      <th></th>\n",
       "      <th>Measure</th>\n",
       "      <th>Train</th>\n",
       "      <th>Test</th>\n",
       "    </tr>\n",
       "  </thead>\n",
       "  <tbody>\n",
       "    <tr>\n",
       "      <th>0</th>\n",
       "      <td>ACCURACY</td>\n",
       "      <td>0.865943</td>\n",
       "      <td>0.839635</td>\n",
       "    </tr>\n",
       "    <tr>\n",
       "      <th>1</th>\n",
       "      <td>PRECISION</td>\n",
       "      <td>0.725417</td>\n",
       "      <td>0.637238</td>\n",
       "    </tr>\n",
       "    <tr>\n",
       "      <th>2</th>\n",
       "      <td>RECALL</td>\n",
       "      <td>0.528506</td>\n",
       "      <td>0.456620</td>\n",
       "    </tr>\n",
       "    <tr>\n",
       "      <th>3</th>\n",
       "      <td>F1 SCORE</td>\n",
       "      <td>0.611501</td>\n",
       "      <td>0.532017</td>\n",
       "    </tr>\n",
       "  </tbody>\n",
       "</table>\n",
       "</div>"
      ],
      "text/plain": [
       "     Measure     Train      Test\n",
       "0  ACCURACY   0.865943  0.839635\n",
       "1  PRECISION  0.725417  0.637238\n",
       "2  RECALL     0.528506  0.456620\n",
       "3  F1 SCORE   0.611501  0.532017"
      ]
     },
     "execution_count": 60,
     "metadata": {},
     "output_type": "execute_result"
    }
   ],
   "source": [
    "resultsDF = performanceMetricsDF(metrics, y_train, grid_predictions_train, y_test, grid_predictions_test)\n",
    "\n",
    "resultsDF"
   ]
  },
  {
   "cell_type": "markdown",
   "metadata": {},
   "source": [
    "By taking a look at the confusion matrix of the KNN, the model performed rather well in the accuracy metric achieving a score of 80%. \n",
    "\n",
    "**Why did this happen?**\n",
    "\n",
    "We need to take into consideration that the dataset being used is severly imbalanced and thus accuracy should serve as a complement of the performance metrics and not used alone. Accuracy simply refers to the proportion of correctly classified instances. It is usually the first metric you look at when evaluating a model. Since we are dealing with imbalanced data accuracy can be misleading, a model can predict the value of the dominant class for all predictions and achieve a high accuracy score. This is known as the accuracy paradox\n",
    "\n",
    "Since we are dealing with a very imbalanced dataset both recall and precision will be our true metrics to evaluate the model\n",
    "\n",
    "There are clear signs of overfitting further supported by the learning curve"
   ]
  },
  {
   "cell_type": "code",
   "execution_count": 61,
   "metadata": {},
   "outputs": [
    {
     "data": {
      "image/png": "[encoded data removed]",
      "text/plain": [
       "<Figure size 1080x720 with 1 Axes>"
      ]
     },
     "metadata": {
      "needs_background": "light"
     },
     "output_type": "display_data"
    },
    {
     "name": "stdout",
     "output_type": "stream",
     "text": [
      "The AUC Score for the train is: 0.9111263548267523\n",
      "The AUC Score for the test is: 0.8385311985448936\n"
     ]
    }
   ],
   "source": [
    "plt.figure(figsize=(15, 10))\n",
    "\n",
    "probs = clf.predict_proba(X_test)\n",
    "\n",
    "FP,TP,thresholds = metrics.roc_curve(y_test,probs[:,1])\n",
    "\n",
    "plt.plot(FP,TP,label=\"ROC\")\n",
    "\n",
    "plt.plot([0, 1], [0, 1], '--k', lw=1)\n",
    "\n",
    "plt.title(\"ROC Curve - Decision Tree\")\n",
    "\n",
    "plt.xlabel(\"False Positive Rate / 1-Specificity\")\n",
    "\n",
    "plt.ylabel(\"True Positive Rate / Recall\")\n",
    "\n",
    "plt.legend(loc = \"lower right\")\n",
    "\n",
    "plt.show()\n",
    "\n",
    "print(\"The AUC Score for the train is:\", roc_auc_score(y_train, clf.predict_proba(X_train)[:,1]))\n",
    "\n",
    "print(\"The AUC Score for the test is:\", roc_auc_score(y_test, clf.predict_proba(X_test)[:,1]))"
   ]
  },
  {
   "cell_type": "markdown",
   "metadata": {},
   "source": [
    "**Learning Curve**"
   ]
  },
  {
   "cell_type": "markdown",
   "metadata": {},
   "source": [
    "Learning curves are a widely used diagnostic tool in machine learning for algorithms that learn from a training dataset incrementally. The model can be evaluated on the training dataset and on a validation dataset after each update during training and plots of the measured performance can created to show learning curves.\n",
    "\n",
    "It is an additional metric that allows to see if our algorithm is underfitting or overfitting\n",
    "\n",
    "Based on: https://scikit-learn.org/stable/auto_examples/model_selection/plot_learning_curve.html"
   ]
  },
  {
   "cell_type": "code",
   "execution_count": 62,
   "metadata": {},
   "outputs": [
    {
     "data": {
      "image/png": "[encoded data removed]",
      "text/plain": [
       "<Figure size 720x360 with 1 Axes>"
      ]
     },
     "metadata": {
      "needs_background": "light"
     },
     "output_type": "display_data"
    }
   ],
   "source": [
    "def plot_learning_curve(estimator, title, X, y, ylim=None, cv=None,\n",
    "                        n_jobs=-1, train_sizes=np.linspace(.1, 1.0, 5)):\n",
    "\n",
    "    plt.figure(figsize=(10, 5))\n",
    "    plt.title(title)\n",
    "    if ylim is not None:\n",
    "        plt.ylim(*ylim)\n",
    "    plt.xlabel('Training examples')\n",
    "    plt.ylabel('Score')\n",
    "    array = np.linspace(1, int(X.shape[0]*0.8))\n",
    "    train_sizes, train_scores, test_scores = learning_curve(\n",
    "        estimator, X, y, cv=cv, n_jobs=n_jobs, train_sizes=train_sizes, scoring = \"roc_auc\")\n",
    "    train_scores_mean = np.mean(train_scores, axis=1)\n",
    "    train_scores_std = np.std(train_scores, axis=1)\n",
    "    test_scores_mean = np.mean(test_scores, axis=1)\n",
    "    test_scores_std = np.std(test_scores, axis=1)\n",
    "    \n",
    "    plt.plot(train_sizes, train_scores_mean, 'o-', color='red',\n",
    "             label='Training score')\n",
    "    plt.plot(train_sizes, test_scores_mean, 'o-', color='green',\n",
    "             label='Validation score')\n",
    "\n",
    "    plt.legend(loc = 'best')\n",
    "    return plt\n",
    "\n",
    "\n",
    "g = plot_learning_curve(clf, \"Learning curve\", X_train, y_train, cv=KF,ylim=(0, 1), n_jobs = -1,\n",
    "                  train_sizes=np.linspace(0.1, 1.0, 5))"
   ]
  },
  {
   "cell_type": "markdown",
   "metadata": {},
   "source": [
    "-----END ------"
   ]
  },
  {
   "cell_type": "markdown",
   "metadata": {},
   "source": [
    "--------------------"
   ]
  },
  {
   "cell_type": "markdown",
   "metadata": {
    "tags": []
   },
   "source": [
    "### **Balancing the Dataset**"
   ]
  },
  {
   "cell_type": "markdown",
   "metadata": {},
   "source": [
    "Lets look at our dataset and find the amount of each class"
   ]
  },
  {
   "cell_type": "code",
   "execution_count": 63,
   "metadata": {},
   "outputs": [
    {
     "data": {
      "text/plain": [
       "268559"
      ]
     },
     "execution_count": 63,
     "metadata": {},
     "output_type": "execute_result"
    }
   ],
   "source": [
    "default_cases = np.array(df_train[df_train.loans == 1].index)\n",
    "\n",
    "len(default_cases)"
   ]
  },
  {
   "cell_type": "code",
   "execution_count": 64,
   "metadata": {},
   "outputs": [
    {
     "data": {
      "text/plain": [
       "1076751"
      ]
     },
     "execution_count": 64,
     "metadata": {},
     "output_type": "execute_result"
    }
   ],
   "source": [
    "non_default_cases = np.array(df_train[df_train.loans == 0].index)\n",
    "\n",
    "len(non_default_cases)"
   ]
  },
  {
   "cell_type": "markdown",
   "metadata": {},
   "source": [
    "Imbalanced datasets are common problems in most classsification problems. Bellow we present some techniques used to deal with this issue:\n",
    "\n",
    "**1) Collect more data:**\n",
    "\n",
    "More information allow us to have a more complete and balanced perspective of our dataset\n",
    "\n",
    "**2) Changing the performance metrics**\n",
    "\n",
    "Accuracy is not the metric to use when working with an imbalanced dataset. We have seen that it is misleading.\n",
    "\n",
    "There are metrics that have been designed to tell you a more compelte story when working with imbalanced classes. These metrics, that were presented earlier, include: \n",
    "\n",
    " - Precision: A measure of a classifiers exactness\n",
    "\n",
    " - Recall: A measure of a classifiers completeness \n",
    "\n",
    " - F1 Score: A weighted average of precision and recall\n",
    "\n",
    "\n",
    "**3) Using resampling techniques**\n",
    "\n",
    "\n",
    "The dataset can be changed to have more balanced data. This is known as sampling your dataset and there are two main methods that you can use to even-up the classes:\n",
    "\n",
    "   - Add copies of instances from the under-represented class called over-sampling\n",
    "\n",
    "   - Delete instances from the over-represented class, this is known as under-sampling.\n",
    "\n",
    "   \n",
    "Other techniques include;\n",
    "\n",
    "**4) Generate Synthetic Samples**\n",
    "\n",
    "A technique similar to sampling is to create synthetic samples. Here we will use imblearn’s SMOTE or Synthetic Minority Oversampling Technique. SMOTE uses a nearest neighbors algorithm to generate new and synthetic data we can use for training our model.\n",
    "\n",
    "\n",
    "**5) Cost Sensitive Learning**\n",
    "\n",
    "A subfield of machine learning that takes the costs of prediction errors (and potentially other costs) into account when training a machine learning model. It is a field of study that is closely related to the field of imbalanced learning that is concerned with classification on datasets with a skewed class distribution."
   ]
  },
  {
   "cell_type": "markdown",
   "metadata": {},
   "source": [
    "---"
   ]
  },
  {
   "cell_type": "markdown",
   "metadata": {},
   "source": [
    "### **Undersample and Oversample Approach**\n",
    "\n",
    "<a id=\"8\"></a>"
   ]
  },
  {
   "cell_type": "markdown",
   "metadata": {},
   "source": [
    "Using undersampling we randomly selected the same amount of non-default cases as the default ones and created a new dataset. With the down-sized data, we then proceed to re-train the model."
   ]
  },
  {
   "cell_type": "markdown",
   "metadata": {},
   "source": [
    "Using oversample we randomly selected the same amount of default cases as the non-default ones and created a new dataset. With the down-sized data, we then proceed to re-train the model.\n",
    "\n",
    "When using the k-fold cross-validation is to directly split the data into 5 folds. \n",
    "\n",
    "In general,  k-fold cross-validation performance evaluation method relies on the assumption that - each fold data is a representative sample of the main data and reflects the class distribution of the target feature in the main data.\n",
    "\n",
    "However, applying this rule to an imbalanced classification problem poses a distribution problem that might result in a biased estimate or overfitting in favor of the majority class. The correct use of the k-fold cross-validation in an imbalanced class distribution problem, requires:\n",
    "\n",
    "   - That each k-fold data is stratified to capture the imbalanced class distribution of the target feature in the main data. This can be achieved using the stratified k-fold cross-validation;\n",
    "   \n",
    "   - That, at each cross-validation evaluation, only the training set is oversampled (using synthetic minority oversampling technique or other class balancing techniques). This can be achieved using a machine learning pipeline. Setting a pipeline helps prevents data leakage;\n",
    "   \n",
    "   - That, at each cross-validation evaluation, the test data is not oversampled i.e it is unaffected by the oversampling, though it maintains the imbalanced class distribution of the target feature as in the main data;\n",
    "   \n",
    "   - That the oversampling is never done on the main data but the training data set, during each k-fold cross-validation evaluation."
   ]
  },
  {
   "cell_type": "code",
   "execution_count": 65,
   "metadata": {},
   "outputs": [
    {
     "name": "stdout",
     "output_type": "stream",
     "text": [
      "Counter({0: 861401, 1: 214847})\n"
     ]
    },
    {
     "data": {
      "image/png": "[encoded data removed]",
      "text/plain": [
       "<Figure size 432x288 with 1 Axes>"
      ]
     },
     "metadata": {
      "needs_background": "light"
     },
     "output_type": "display_data"
    }
   ],
   "source": [
    "print(collections.Counter(y_train))\n",
    "\n",
    "sns.countplot(x = \"loans\", data=pd.DataFrame(data={'loans':y_train}))\n",
    "\n",
    "plt.show()"
   ]
  },
  {
   "cell_type": "code",
   "execution_count": 66,
   "metadata": {},
   "outputs": [
    {
     "name": "stdout",
     "output_type": "stream",
     "text": [
      "Counter({0: 429694, 1: 429694})\n"
     ]
    },
    {
     "data": {
      "image/png": "[encoded data removed]",
      "text/plain": [
       "<Figure size 432x288 with 1 Axes>"
      ]
     },
     "metadata": {
      "needs_background": "light"
     },
     "output_type": "display_data"
    }
   ],
   "source": [
    "under = RandomUnderSampler(sampling_strategy=0.5, random_state = 42)\n",
    "\n",
    "over = RandomOverSampler(sampling_strategy=\"minority\", random_state = 42)\n",
    "\n",
    "X_train_rus, y_train_rus = under.fit_resample(X_train, y_train)\n",
    "\n",
    "X_train_final, y_train_final = over.fit_resample(X_train_rus, y_train_rus)\n",
    "\n",
    "print(collections.Counter(y_train_final))\n",
    "\n",
    "sns.countplot(x = \"loans\", data=pd.DataFrame(data={'loans':y_train_final}))\n",
    "\n",
    "plt.show()"
   ]
  },
  {
   "cell_type": "markdown",
   "metadata": {},
   "source": [
    "**Creating a pipeline**"
   ]
  },
  {
   "cell_type": "code",
   "execution_count": 67,
   "metadata": {},
   "outputs": [
    {
     "data": {
      "text/html": [
       "<style>#sk-9661e286-2171-4e7c-871f-ec71e5ac76be {color: black;background-color: white;}#sk-9661e286-2171-4e7c-871f-ec71e5ac76be pre{padding: 0;}#sk-9661e286-2171-4e7c-871f-ec71e5ac76be div.sk-toggleable {background-color: white;}#sk-9661e286-2171-4e7c-871f-ec71e5ac76be label.sk-toggleable__label {cursor: pointer;display: block;width: 100%;margin-bottom: 0;padding: 0.3em;box-sizing: border-box;text-align: center;}#sk-9661e286-2171-4e7c-871f-ec71e5ac76be label.sk-toggleable__label-arrow:before {content: \"▸\";float: left;margin-right: 0.25em;color: #696969;}#sk-9661e286-2171-4e7c-871f-ec71e5ac76be label.sk-toggleable__label-arrow:hover:before {color: black;}#sk-9661e286-2171-4e7c-871f-ec71e5ac76be div.sk-estimator:hover label.sk-toggleable__label-arrow:before {color: black;}#sk-9661e286-2171-4e7c-871f-ec71e5ac76be div.sk-toggleable__content {max-height: 0;max-width: 0;overflow: hidden;text-align: left;background-color: #f0f8ff;}#sk-9661e286-2171-4e7c-871f-ec71e5ac76be div.sk-toggleable__content pre {margin: 0.2em;color: black;border-radius: 0.25em;background-color: #f0f8ff;}#sk-9661e286-2171-4e7c-871f-ec71e5ac76be input.sk-toggleable__control:checked~div.sk-toggleable__content {max-height: 200px;max-width: 100%;overflow: auto;}#sk-9661e286-2171-4e7c-871f-ec71e5ac76be input.sk-toggleable__control:checked~label.sk-toggleable__label-arrow:before {content: \"▾\";}#sk-9661e286-2171-4e7c-871f-ec71e5ac76be div.sk-estimator input.sk-toggleable__control:checked~label.sk-toggleable__label {background-color: #d4ebff;}#sk-9661e286-2171-4e7c-871f-ec71e5ac76be div.sk-label input.sk-toggleable__control:checked~label.sk-toggleable__label {background-color: #d4ebff;}#sk-9661e286-2171-4e7c-871f-ec71e5ac76be input.sk-hidden--visually {border: 0;clip: rect(1px 1px 1px 1px);clip: rect(1px, 1px, 1px, 1px);height: 1px;margin: -1px;overflow: hidden;padding: 0;position: absolute;width: 1px;}#sk-9661e286-2171-4e7c-871f-ec71e5ac76be div.sk-estimator {font-family: monospace;background-color: #f0f8ff;border: 1px dotted black;border-radius: 0.25em;box-sizing: border-box;margin-bottom: 0.5em;}#sk-9661e286-2171-4e7c-871f-ec71e5ac76be div.sk-estimator:hover {background-color: #d4ebff;}#sk-9661e286-2171-4e7c-871f-ec71e5ac76be div.sk-parallel-item::after {content: \"\";width: 100%;border-bottom: 1px solid gray;flex-grow: 1;}#sk-9661e286-2171-4e7c-871f-ec71e5ac76be div.sk-label:hover label.sk-toggleable__label {background-color: #d4ebff;}#sk-9661e286-2171-4e7c-871f-ec71e5ac76be div.sk-serial::before {content: \"\";position: absolute;border-left: 1px solid gray;box-sizing: border-box;top: 2em;bottom: 0;left: 50%;}#sk-9661e286-2171-4e7c-871f-ec71e5ac76be div.sk-serial {display: flex;flex-direction: column;align-items: center;background-color: white;padding-right: 0.2em;padding-left: 0.2em;}#sk-9661e286-2171-4e7c-871f-ec71e5ac76be div.sk-item {z-index: 1;}#sk-9661e286-2171-4e7c-871f-ec71e5ac76be div.sk-parallel {display: flex;align-items: stretch;justify-content: center;background-color: white;}#sk-9661e286-2171-4e7c-871f-ec71e5ac76be div.sk-parallel::before {content: \"\";position: absolute;border-left: 1px solid gray;box-sizing: border-box;top: 2em;bottom: 0;left: 50%;}#sk-9661e286-2171-4e7c-871f-ec71e5ac76be div.sk-parallel-item {display: flex;flex-direction: column;position: relative;background-color: white;}#sk-9661e286-2171-4e7c-871f-ec71e5ac76be div.sk-parallel-item:first-child::after {align-self: flex-end;width: 50%;}#sk-9661e286-2171-4e7c-871f-ec71e5ac76be div.sk-parallel-item:last-child::after {align-self: flex-start;width: 50%;}#sk-9661e286-2171-4e7c-871f-ec71e5ac76be div.sk-parallel-item:only-child::after {width: 0;}#sk-9661e286-2171-4e7c-871f-ec71e5ac76be div.sk-dashed-wrapped {border: 1px dashed gray;margin: 0 0.4em 0.5em 0.4em;box-sizing: border-box;padding-bottom: 0.4em;background-color: white;position: relative;}#sk-9661e286-2171-4e7c-871f-ec71e5ac76be div.sk-label label {font-family: monospace;font-weight: bold;background-color: white;display: inline-block;line-height: 1.2em;}#sk-9661e286-2171-4e7c-871f-ec71e5ac76be div.sk-label-container {position: relative;z-index: 2;text-align: center;}#sk-9661e286-2171-4e7c-871f-ec71e5ac76be div.sk-container {/* jupyter's `normalize.less` sets `[hidden] { display: none; }` but bootstrap.min.css set `[hidden] { display: none !important; }` so we also need the `!important` here to be able to override the default hidden behavior on the sphinx rendered scikit-learn.org. See: https://github.com/scikit-learn/scikit-learn/issues/21755 */display: inline-block !important;position: relative;}#sk-9661e286-2171-4e7c-871f-ec71e5ac76be div.sk-text-repr-fallback {display: none;}</style><div id=\"sk-9661e286-2171-4e7c-871f-ec71e5ac76be\" class=\"sk-top-container\"><div class=\"sk-text-repr-fallback\"><pre>Pipeline(steps=[(&#x27;preprocessor&#x27;,\n",
       "                 ColumnTransformer(transformers=[(&#x27;numerical&#x27;,\n",
       "                                                  Pipeline(steps=[(&#x27;imputer&#x27;,\n",
       "                                                                   SimpleImputer(strategy=&#x27;median&#x27;)),\n",
       "                                                                  (&#x27;scaler&#x27;,\n",
       "                                                                   StandardScaler())]),\n",
       "                                                  [&#x27;loan_amnt&#x27;, &#x27;term&#x27;,\n",
       "                                                   &#x27;int_rate&#x27;, &#x27;annual_inc&#x27;,\n",
       "                                                   &#x27;dti&#x27;, &#x27;delinq_2yrs&#x27;,\n",
       "                                                   &#x27;inq_last_6mths&#x27;, &#x27;open_acc&#x27;,\n",
       "                                                   &#x27;pub_rec&#x27;, &#x27;revol_bal&#x27;,\n",
       "                                                   &#x27;revol_util&#x27;, &#x27;total_acc&#x27;,\n",
       "                                                   &#x27;last_pymnt_amnt&#x27;,\n",
       "                                                   &#x27;mort_acc&#x27;,\n",
       "                                                   &#x27;pub_rec_bankr...\n",
       "                                                                   OneHotEncoder(handle_unknown=&#x27;ignore&#x27;,\n",
       "                                                                                 sparse=False))]),\n",
       "                                                  [&#x27;home_ownership&#x27;, &#x27;purpose&#x27;,\n",
       "                                                   &#x27;addr_state&#x27;,\n",
       "                                                   &#x27;verification_status&#x27;,\n",
       "                                                   &#x27;application_type&#x27;])])),\n",
       "                (&#x27;under&#x27;,\n",
       "                 RandomUnderSampler(random_state=42, sampling_strategy=0.5)),\n",
       "                (&#x27;over&#x27;,\n",
       "                 RandomOverSampler(random_state=42,\n",
       "                                   sampling_strategy=&#x27;minority&#x27;)),\n",
       "                (&#x27;pca&#x27;, PCA(n_components=5)),\n",
       "                (&#x27;model&#x27;, KNeighborsClassifier(n_neighbors=11))])</pre><b>Please rerun this cell to show the HTML repr or trust the notebook.</b></div><div class=\"sk-container\" hidden><div class=\"sk-item sk-dashed-wrapped\"><div class=\"sk-label-container\"><div class=\"sk-label sk-toggleable\"><input class=\"sk-toggleable__control sk-hidden--visually\" id=\"d445d2fa-9c33-44ec-9aa4-6b0527b3e54e\" type=\"checkbox\" ><label for=\"d445d2fa-9c33-44ec-9aa4-6b0527b3e54e\" class=\"sk-toggleable__label sk-toggleable__label-arrow\">Pipeline</label><div class=\"sk-toggleable__content\"><pre>Pipeline(steps=[(&#x27;preprocessor&#x27;,\n",
       "                 ColumnTransformer(transformers=[(&#x27;numerical&#x27;,\n",
       "                                                  Pipeline(steps=[(&#x27;imputer&#x27;,\n",
       "                                                                   SimpleImputer(strategy=&#x27;median&#x27;)),\n",
       "                                                                  (&#x27;scaler&#x27;,\n",
       "                                                                   StandardScaler())]),\n",
       "                                                  [&#x27;loan_amnt&#x27;, &#x27;term&#x27;,\n",
       "                                                   &#x27;int_rate&#x27;, &#x27;annual_inc&#x27;,\n",
       "                                                   &#x27;dti&#x27;, &#x27;delinq_2yrs&#x27;,\n",
       "                                                   &#x27;inq_last_6mths&#x27;, &#x27;open_acc&#x27;,\n",
       "                                                   &#x27;pub_rec&#x27;, &#x27;revol_bal&#x27;,\n",
       "                                                   &#x27;revol_util&#x27;, &#x27;total_acc&#x27;,\n",
       "                                                   &#x27;last_pymnt_amnt&#x27;,\n",
       "                                                   &#x27;mort_acc&#x27;,\n",
       "                                                   &#x27;pub_rec_bankr...\n",
       "                                                                   OneHotEncoder(handle_unknown=&#x27;ignore&#x27;,\n",
       "                                                                                 sparse=False))]),\n",
       "                                                  [&#x27;home_ownership&#x27;, &#x27;purpose&#x27;,\n",
       "                                                   &#x27;addr_state&#x27;,\n",
       "                                                   &#x27;verification_status&#x27;,\n",
       "                                                   &#x27;application_type&#x27;])])),\n",
       "                (&#x27;under&#x27;,\n",
       "                 RandomUnderSampler(random_state=42, sampling_strategy=0.5)),\n",
       "                (&#x27;over&#x27;,\n",
       "                 RandomOverSampler(random_state=42,\n",
       "                                   sampling_strategy=&#x27;minority&#x27;)),\n",
       "                (&#x27;pca&#x27;, PCA(n_components=5)),\n",
       "                (&#x27;model&#x27;, KNeighborsClassifier(n_neighbors=11))])</pre></div></div></div><div class=\"sk-serial\"><div class=\"sk-item sk-dashed-wrapped\"><div class=\"sk-label-container\"><div class=\"sk-label sk-toggleable\"><input class=\"sk-toggleable__control sk-hidden--visually\" id=\"ea5cee90-6437-4b54-8b87-880e00a099cf\" type=\"checkbox\" ><label for=\"ea5cee90-6437-4b54-8b87-880e00a099cf\" class=\"sk-toggleable__label sk-toggleable__label-arrow\">preprocessor: ColumnTransformer</label><div class=\"sk-toggleable__content\"><pre>ColumnTransformer(transformers=[(&#x27;numerical&#x27;,\n",
       "                                 Pipeline(steps=[(&#x27;imputer&#x27;,\n",
       "                                                  SimpleImputer(strategy=&#x27;median&#x27;)),\n",
       "                                                 (&#x27;scaler&#x27;, StandardScaler())]),\n",
       "                                 [&#x27;loan_amnt&#x27;, &#x27;term&#x27;, &#x27;int_rate&#x27;, &#x27;annual_inc&#x27;,\n",
       "                                  &#x27;dti&#x27;, &#x27;delinq_2yrs&#x27;, &#x27;inq_last_6mths&#x27;,\n",
       "                                  &#x27;open_acc&#x27;, &#x27;pub_rec&#x27;, &#x27;revol_bal&#x27;,\n",
       "                                  &#x27;revol_util&#x27;, &#x27;total_acc&#x27;, &#x27;last_pymnt_amnt&#x27;,\n",
       "                                  &#x27;mort_acc&#x27;, &#x27;pub_rec_bankruptcies&#x27;,\n",
       "                                  &#x27;fico_score&#x27;]),\n",
       "                                (&#x27;categorical_ordinal&#x27;,\n",
       "                                 Pipeline(steps=[(&#x27;ordinalencoder&#x27;,\n",
       "                                                  OrdinalEncoder())]),\n",
       "                                 [&#x27;grade&#x27;]),\n",
       "                                (&#x27;categorical_onehot&#x27;,\n",
       "                                 Pipeline(steps=[(&#x27;onehotencoder&#x27;,\n",
       "                                                  OneHotEncoder(handle_unknown=&#x27;ignore&#x27;,\n",
       "                                                                sparse=False))]),\n",
       "                                 [&#x27;home_ownership&#x27;, &#x27;purpose&#x27;, &#x27;addr_state&#x27;,\n",
       "                                  &#x27;verification_status&#x27;, &#x27;application_type&#x27;])])</pre></div></div></div><div class=\"sk-parallel\"><div class=\"sk-parallel-item\"><div class=\"sk-item\"><div class=\"sk-label-container\"><div class=\"sk-label sk-toggleable\"><input class=\"sk-toggleable__control sk-hidden--visually\" id=\"f41b44ef-b218-452c-b94f-0f57b4950aa9\" type=\"checkbox\" ><label for=\"f41b44ef-b218-452c-b94f-0f57b4950aa9\" class=\"sk-toggleable__label sk-toggleable__label-arrow\">numerical</label><div class=\"sk-toggleable__content\"><pre>[&#x27;loan_amnt&#x27;, &#x27;term&#x27;, &#x27;int_rate&#x27;, &#x27;annual_inc&#x27;, &#x27;dti&#x27;, &#x27;delinq_2yrs&#x27;, &#x27;inq_last_6mths&#x27;, &#x27;open_acc&#x27;, &#x27;pub_rec&#x27;, &#x27;revol_bal&#x27;, &#x27;revol_util&#x27;, &#x27;total_acc&#x27;, &#x27;last_pymnt_amnt&#x27;, &#x27;mort_acc&#x27;, &#x27;pub_rec_bankruptcies&#x27;, &#x27;fico_score&#x27;]</pre></div></div></div><div class=\"sk-serial\"><div class=\"sk-item\"><div class=\"sk-serial\"><div class=\"sk-item\"><div class=\"sk-estimator sk-toggleable\"><input class=\"sk-toggleable__control sk-hidden--visually\" id=\"ec23f009-df99-436f-9453-56c989222603\" type=\"checkbox\" ><label for=\"ec23f009-df99-436f-9453-56c989222603\" class=\"sk-toggleable__label sk-toggleable__label-arrow\">SimpleImputer</label><div class=\"sk-toggleable__content\"><pre>SimpleImputer(strategy=&#x27;median&#x27;)</pre></div></div></div><div class=\"sk-item\"><div class=\"sk-estimator sk-toggleable\"><input class=\"sk-toggleable__control sk-hidden--visually\" id=\"d667b5c4-5de7-4ece-a7d4-1d0c74535361\" type=\"checkbox\" ><label for=\"d667b5c4-5de7-4ece-a7d4-1d0c74535361\" class=\"sk-toggleable__label sk-toggleable__label-arrow\">StandardScaler</label><div class=\"sk-toggleable__content\"><pre>StandardScaler()</pre></div></div></div></div></div></div></div></div><div class=\"sk-parallel-item\"><div class=\"sk-item\"><div class=\"sk-label-container\"><div class=\"sk-label sk-toggleable\"><input class=\"sk-toggleable__control sk-hidden--visually\" id=\"4a378629-41a3-43cb-9f7f-d424b61982db\" type=\"checkbox\" ><label for=\"4a378629-41a3-43cb-9f7f-d424b61982db\" class=\"sk-toggleable__label sk-toggleable__label-arrow\">categorical_ordinal</label><div class=\"sk-toggleable__content\"><pre>[&#x27;grade&#x27;]</pre></div></div></div><div class=\"sk-serial\"><div class=\"sk-item\"><div class=\"sk-serial\"><div class=\"sk-item\"><div class=\"sk-estimator sk-toggleable\"><input class=\"sk-toggleable__control sk-hidden--visually\" id=\"116c3cfc-0b26-4fcd-b2d5-58d547b85034\" type=\"checkbox\" ><label for=\"116c3cfc-0b26-4fcd-b2d5-58d547b85034\" class=\"sk-toggleable__label sk-toggleable__label-arrow\">OrdinalEncoder</label><div class=\"sk-toggleable__content\"><pre>OrdinalEncoder()</pre></div></div></div></div></div></div></div></div><div class=\"sk-parallel-item\"><div class=\"sk-item\"><div class=\"sk-label-container\"><div class=\"sk-label sk-toggleable\"><input class=\"sk-toggleable__control sk-hidden--visually\" id=\"9a174dcb-5e40-4a5f-b01c-aee3d801530e\" type=\"checkbox\" ><label for=\"9a174dcb-5e40-4a5f-b01c-aee3d801530e\" class=\"sk-toggleable__label sk-toggleable__label-arrow\">categorical_onehot</label><div class=\"sk-toggleable__content\"><pre>[&#x27;home_ownership&#x27;, &#x27;purpose&#x27;, &#x27;addr_state&#x27;, &#x27;verification_status&#x27;, &#x27;application_type&#x27;]</pre></div></div></div><div class=\"sk-serial\"><div class=\"sk-item\"><div class=\"sk-serial\"><div class=\"sk-item\"><div class=\"sk-estimator sk-toggleable\"><input class=\"sk-toggleable__control sk-hidden--visually\" id=\"491e6b7c-1d5b-44ea-99f4-fe6b21804323\" type=\"checkbox\" ><label for=\"491e6b7c-1d5b-44ea-99f4-fe6b21804323\" class=\"sk-toggleable__label sk-toggleable__label-arrow\">OneHotEncoder</label><div class=\"sk-toggleable__content\"><pre>OneHotEncoder(handle_unknown=&#x27;ignore&#x27;, sparse=False)</pre></div></div></div></div></div></div></div></div></div></div><div class=\"sk-item\"><div class=\"sk-estimator sk-toggleable\"><input class=\"sk-toggleable__control sk-hidden--visually\" id=\"ccd1f92a-4c93-4ec6-a133-99507286ca9a\" type=\"checkbox\" ><label for=\"ccd1f92a-4c93-4ec6-a133-99507286ca9a\" class=\"sk-toggleable__label sk-toggleable__label-arrow\">RandomUnderSampler</label><div class=\"sk-toggleable__content\"><pre>RandomUnderSampler(random_state=42, sampling_strategy=0.5)</pre></div></div></div><div class=\"sk-item\"><div class=\"sk-estimator sk-toggleable\"><input class=\"sk-toggleable__control sk-hidden--visually\" id=\"7b5836d5-25b0-492a-a253-ed42926a19bd\" type=\"checkbox\" ><label for=\"7b5836d5-25b0-492a-a253-ed42926a19bd\" class=\"sk-toggleable__label sk-toggleable__label-arrow\">RandomOverSampler</label><div class=\"sk-toggleable__content\"><pre>RandomOverSampler(random_state=42, sampling_strategy=&#x27;minority&#x27;)</pre></div></div></div><div class=\"sk-item\"><div class=\"sk-estimator sk-toggleable\"><input class=\"sk-toggleable__control sk-hidden--visually\" id=\"f4bc3574-db2b-441a-95f2-5fdcd4bf163a\" type=\"checkbox\" ><label for=\"f4bc3574-db2b-441a-95f2-5fdcd4bf163a\" class=\"sk-toggleable__label sk-toggleable__label-arrow\">PCA</label><div class=\"sk-toggleable__content\"><pre>PCA(n_components=5)</pre></div></div></div><div class=\"sk-item\"><div class=\"sk-estimator sk-toggleable\"><input class=\"sk-toggleable__control sk-hidden--visually\" id=\"f7835df1-3f55-473b-8bf5-4e905e014055\" type=\"checkbox\" ><label for=\"f7835df1-3f55-473b-8bf5-4e905e014055\" class=\"sk-toggleable__label sk-toggleable__label-arrow\">KNeighborsClassifier</label><div class=\"sk-toggleable__content\"><pre>KNeighborsClassifier(n_neighbors=11)</pre></div></div></div></div></div></div></div>"
      ],
      "text/plain": [
       "Pipeline(steps=[('preprocessor',\n",
       "                 ColumnTransformer(transformers=[('numerical',\n",
       "                                                  Pipeline(steps=[('imputer',\n",
       "                                                                   SimpleImputer(strategy='median')),\n",
       "                                                                  ('scaler',\n",
       "                                                                   StandardScaler())]),\n",
       "                                                  ['loan_amnt', 'term',\n",
       "                                                   'int_rate', 'annual_inc',\n",
       "                                                   'dti', 'delinq_2yrs',\n",
       "                                                   'inq_last_6mths', 'open_acc',\n",
       "                                                   'pub_rec', 'revol_bal',\n",
       "                                                   'revol_util', 'total_acc',\n",
       "                                                   'last_pymnt_amnt',\n",
       "                                                   'mort_acc',\n",
       "                                                   'pub_rec_bankr...\n",
       "                                                                   OneHotEncoder(handle_unknown='ignore',\n",
       "                                                                                 sparse=False))]),\n",
       "                                                  ['home_ownership', 'purpose',\n",
       "                                                   'addr_state',\n",
       "                                                   'verification_status',\n",
       "                                                   'application_type'])])),\n",
       "                ('under',\n",
       "                 RandomUnderSampler(random_state=42, sampling_strategy=0.5)),\n",
       "                ('over',\n",
       "                 RandomOverSampler(random_state=42,\n",
       "                                   sampling_strategy='minority')),\n",
       "                ('pca', PCA(n_components=5)),\n",
       "                ('model', KNeighborsClassifier(n_neighbors=11))])"
      ]
     },
     "execution_count": 67,
     "metadata": {},
     "output_type": "execute_result"
    }
   ],
   "source": [
    "model_rus = KNeighborsClassifier(n_neighbors=11)\n",
    "\n",
    "pipeline_knn_rus = imb_pipeline(steps=[\n",
    "    ('preprocessor', preprocessing_pipeline),\n",
    "    (\"under\", under),\n",
    "    (\"over\", over),\n",
    "    (\"pca\", pca),\n",
    "    (\"model\", model_rus)\n",
    "])\n",
    "\n",
    "pipeline_knn_rus.fit(X_train, y_train)"
   ]
  },
  {
   "cell_type": "code",
   "execution_count": 68,
   "metadata": {},
   "outputs": [],
   "source": [
    "grid_predictions_train_rus = pipeline_knn_rus.predict(X_train)\n",
    "\n",
    "grid_predictions_test_rus =  pipeline_knn_rus.predict(X_test)"
   ]
  },
  {
   "cell_type": "markdown",
   "metadata": {},
   "source": [
    "**Plot Confusion Matrix**"
   ]
  },
  {
   "cell_type": "code",
   "execution_count": 69,
   "metadata": {},
   "outputs": [
    {
     "data": {
      "image/png": "[encoded data removed]",
      "text/plain": [
       "<Figure size 1080x720 with 2 Axes>"
      ]
     },
     "metadata": {
      "needs_background": "light"
     },
     "output_type": "display_data"
    }
   ],
   "source": [
    "cf = metrics.confusion_matrix(y_test, grid_predictions_test_rus)\n",
    "\n",
    "labels = ['True Neg','False Pos','False Neg','True Pos']\n",
    "\n",
    "categories = ['Non Default', 'Default']\n",
    "\n",
    "make_confusion_matrix(cf, group_names=labels,categories=categories, cmap='Blues', figsize = (15,10))"
   ]
  },
  {
   "cell_type": "markdown",
   "metadata": {},
   "source": [
    "**Dataframe with results**"
   ]
  },
  {
   "cell_type": "code",
   "execution_count": 70,
   "metadata": {},
   "outputs": [
    {
     "data": {
      "text/html": [
       "<div>\n",
       "<style scoped>\n",
       "    .dataframe tbody tr th:only-of-type {\n",
       "        vertical-align: middle;\n",
       "    }\n",
       "\n",
       "    .dataframe tbody tr th {\n",
       "        vertical-align: top;\n",
       "    }\n",
       "\n",
       "    .dataframe thead th {\n",
       "        text-align: right;\n",
       "    }\n",
       "</style>\n",
       "<table border=\"1\" class=\"dataframe\">\n",
       "  <thead>\n",
       "    <tr style=\"text-align: right;\">\n",
       "      <th></th>\n",
       "      <th>Measure</th>\n",
       "      <th>Train</th>\n",
       "      <th>Test</th>\n",
       "    </tr>\n",
       "  </thead>\n",
       "  <tbody>\n",
       "    <tr>\n",
       "      <th>0</th>\n",
       "      <td>ACCURACY</td>\n",
       "      <td>0.871885</td>\n",
       "      <td>0.860694</td>\n",
       "    </tr>\n",
       "    <tr>\n",
       "      <th>1</th>\n",
       "      <td>PRECISION</td>\n",
       "      <td>0.622384</td>\n",
       "      <td>0.603231</td>\n",
       "    </tr>\n",
       "    <tr>\n",
       "      <th>2</th>\n",
       "      <td>RECALL</td>\n",
       "      <td>0.910871</td>\n",
       "      <td>0.882857</td>\n",
       "    </tr>\n",
       "    <tr>\n",
       "      <th>3</th>\n",
       "      <td>F1 SCORE</td>\n",
       "      <td>0.739488</td>\n",
       "      <td>0.716736</td>\n",
       "    </tr>\n",
       "  </tbody>\n",
       "</table>\n",
       "</div>"
      ],
      "text/plain": [
       "     Measure     Train      Test\n",
       "0  ACCURACY   0.871885  0.860694\n",
       "1  PRECISION  0.622384  0.603231\n",
       "2  RECALL     0.910871  0.882857\n",
       "3  F1 SCORE   0.739488  0.716736"
      ]
     },
     "execution_count": 70,
     "metadata": {},
     "output_type": "execute_result"
    }
   ],
   "source": [
    "resultsDF = performanceMetricsDF(metrics, y_train, grid_predictions_train_rus, y_test, grid_predictions_test_rus)\n",
    "\n",
    "resultsDF"
   ]
  },
  {
   "cell_type": "code",
   "execution_count": 71,
   "metadata": {},
   "outputs": [
    {
     "name": "stdout",
     "output_type": "stream",
     "text": [
      "The AUC Score is: 0.9265381205848504\n"
     ]
    }
   ],
   "source": [
    "print(\"The AUC Score is:\", roc_auc_score(y_test, pipeline_knn_rus.predict_proba(X_test)[:,1]))"
   ]
  },
  {
   "cell_type": "markdown",
   "metadata": {},
   "source": [
    "----"
   ]
  }
 ],
 "metadata": {
  "kernelspec": {
   "display_name": "Python 3 (ipykernel)",
   "language": "python",
   "name": "python3"
  },
  "language_info": {
   "codemirror_mode": {
    "name": "ipython",
    "version": 3
   },
   "file_extension": ".py",
   "mimetype": "text/x-python",
   "name": "python",
   "nbconvert_exporter": "python",
   "pygments_lexer": "ipython3",
   "version": "3.9.7"
  }
 },
 "nbformat": 4,
 "nbformat_minor": 4
}
